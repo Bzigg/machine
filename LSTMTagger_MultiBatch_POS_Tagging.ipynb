{
  "nbformat": 4,
  "nbformat_minor": 0,
  "metadata": {
    "colab": {
      "name": "LSTMTagger: MultiBatch_POS_Tagging",
      "provenance": [],
      "collapsed_sections": [],
      "authorship_tag": "ABX9TyMQIsyLk1Izkroh+A6jxL6l"
    },
    "kernelspec": {
      "name": "python3",
      "display_name": "Python 3"
    },
    "accelerator": "GPU"
  },
  "cells": [
    {
      "cell_type": "markdown",
      "metadata": {
        "id": "rXREHjb9vfHS",
        "colab_type": "text"
      },
      "source": [
        "# LSTM: POS-Tagging\n",
        "\n",
        "Небольшая реккурентная сеть, которая решает задачу частеречной разметки предложения.\n",
        "\n",
        "В качестве датасета, на котором производится обучения используется **SynTagRus**. Чуть подробнее узнать о корпусе можно [здесь](https://universaldependencies.org/treebanks/ru_syntagrus/index.html)."
      ]
    },
    {
      "cell_type": "markdown",
      "metadata": {
        "id": "MFGQ2Oxkw-oP",
        "colab_type": "text"
      },
      "source": [
        "## Библиотеки"
      ]
    },
    {
      "cell_type": "code",
      "metadata": {
        "id": "nYRZmgvYvYw4",
        "colab_type": "code",
        "colab": {}
      },
      "source": [
        "!pip install pyconll"
      ],
      "execution_count": 0,
      "outputs": []
    },
    {
      "cell_type": "code",
      "metadata": {
        "id": "kTuGc3cBxrv4",
        "colab_type": "code",
        "colab": {}
      },
      "source": [
        "import time\n",
        "from datetime import timedelta\n",
        "\n",
        "import pyconll\n",
        "import collections\n",
        "import numpy as np\n",
        "import torch\n",
        "import torch.nn as nn\n",
        "from torch.nn import functional as F\n",
        "import matplotlib.pyplot as plt\n",
        "from sklearn.metrics import classification_report\n",
        "from keras.preprocessing.sequence import pad_sequences\n",
        "from torch.utils.data import (TensorDataset,\n",
        "                              DataLoader,\n",
        "                              RandomSampler)\n",
        "from collections import Counter"
      ],
      "execution_count": 0,
      "outputs": []
    },
    {
      "cell_type": "markdown",
      "metadata": {
        "id": "1-dLcau2yGfc",
        "colab_type": "text"
      },
      "source": [
        "## Датасет\n",
        "\n",
        "Скачаем датасет и преобразуем его в удобную для работы форму."
      ]
    },
    {
      "cell_type": "code",
      "metadata": {
        "id": "E28LA7Q7yCNk",
        "colab_type": "code",
        "colab": {}
      },
      "source": [
        "!mkdir syntagrus\n",
        "!wget -O 'syntagrus/ru_syntagrus-ud-train.conllu' https://raw.githubusercontent.com/UniversalDependencies/UD_Russian-SynTagRus/master/ru_syntagrus-ud-train.conllu\n",
        "!wget -O 'syntagrus/ru_syntagrus-ud-dev.conllu' https://raw.githubusercontent.com/UniversalDependencies/UD_Russian-SynTagRus/master/ru_syntagrus-ud-dev.conllu"
      ],
      "execution_count": 0,
      "outputs": []
    },
    {
      "cell_type": "code",
      "metadata": {
        "id": "XV9B8TcQyDtw",
        "colab_type": "code",
        "colab": {}
      },
      "source": [
        "full_train = pyconll.load_from_file('/content/syntagrus/ru_syntagrus-ud-train.conllu')\n",
        "full_test = pyconll.load_from_file('/content/syntagrus/ru_syntagrus-ud-dev.conllu')"
      ],
      "execution_count": 0,
      "outputs": []
    },
    {
      "cell_type": "markdown",
      "metadata": {
        "id": "zFPzadSNy44q",
        "colab_type": "text"
      },
      "source": [
        "Преобразуем данные из разметки CoNLL в удобную нам форму в виде списка кортежей. Каждый кортеж будет содержать текст и POS-теги."
      ]
    },
    {
      "cell_type": "code",
      "metadata": {
        "id": "1FZYPf55yEFT",
        "colab_type": "code",
        "colab": {}
      },
      "source": [
        "training_data = []\n",
        "\n",
        "for sent in full_train:\n",
        "    words = []\n",
        "    labels = []\n",
        "    for token in sent:\n",
        "        words.append(token.form)\n",
        "        labels.append(token.upos)\n",
        "    training_data.append((words, labels))\n",
        "\n",
        "test_data = []\n",
        "\n",
        "for sent in full_test:\n",
        "    words = []\n",
        "    labels = []\n",
        "    for token in sent:\n",
        "        words.append(token.form)\n",
        "        labels.append(token.upos)\n",
        "    test_data.append((words, labels))"
      ],
      "execution_count": 0,
      "outputs": []
    },
    {
      "cell_type": "markdown",
      "metadata": {
        "id": "nKTKhTXVzT2k",
        "colab_type": "text"
      },
      "source": [
        "Примеры текстов:"
      ]
    },
    {
      "cell_type": "code",
      "metadata": {
        "id": "RbecS35IyEVF",
        "colab_type": "code",
        "outputId": "c63e2d87-9867-4865-e86d-6bc525b7bb1d",
        "colab": {
          "base_uri": "https://localhost:8080/",
          "height": 34
        }
      },
      "source": [
        "training_data[0]"
      ],
      "execution_count": 7,
      "outputs": [
        {
          "output_type": "execute_result",
          "data": {
            "text/plain": [
              "(['Анкета', '.'], ['NOUN', 'PUNCT'])"
            ]
          },
          "metadata": {
            "tags": []
          },
          "execution_count": 7
        }
      ]
    },
    {
      "cell_type": "code",
      "metadata": {
        "id": "2GN1lDHNyEcL",
        "colab_type": "code",
        "outputId": "f1d7b4b0-d8c6-4692-bc21-80addb91b495",
        "colab": {
          "base_uri": "https://localhost:8080/",
          "height": 54
        }
      },
      "source": [
        "print(test_data[0])"
      ],
      "execution_count": 8,
      "outputs": [
        {
          "output_type": "stream",
          "text": [
            "(['Алгоритм', ',', 'от', 'имени', 'учёного', 'аль', '-', 'Хорезми', ',', '-', 'точный', 'набор', 'инструкций', ',', 'описывающих', 'порядок', 'действий', 'исполнителя', 'для', 'достижения', 'результата', 'решения', 'задачи', 'за', 'конечное', 'время', '.'], ['NOUN', 'PUNCT', 'ADP', 'NOUN', 'NOUN', 'PART', 'PUNCT', 'PROPN', 'PUNCT', 'PUNCT', 'ADJ', 'NOUN', 'NOUN', 'PUNCT', 'VERB', 'NOUN', 'NOUN', 'NOUN', 'ADP', 'NOUN', 'NOUN', 'NOUN', 'NOUN', 'ADP', 'ADJ', 'NOUN', 'PUNCT'])\n"
          ],
          "name": "stdout"
        }
      ]
    },
    {
      "cell_type": "markdown",
      "metadata": {
        "id": "muG0XogKzlMy",
        "colab_type": "text"
      },
      "source": [
        "Два метода, которые будут преобразовывать наши текстовые последовательности в индексы. (Можно было бы воспользоваться и одним методом, т.к. их функционал аналогичен - возвращает индекс токена), но в датасете той версии, которую я скачал, имеется небольшая ошибка, поэтому пришлось прибегнуть к такому ухищрению.\n",
        "\n",
        "На вход метода подаётся последовательность в виде списка токенов, а также словарь (токен и его идентификатор), выход - последовательность в виде индексов."
      ]
    },
    {
      "cell_type": "code",
      "metadata": {
        "id": "0DzS4QbJyEZ_",
        "colab_type": "code",
        "colab": {}
      },
      "source": [
        "def prepare_sequence(seq, to_ix):\n",
        "    idxs = [to_ix[w] for w in seq]\n",
        "    return idxs\n",
        "\n",
        "def prepare_labels(seq, to_ix):\n",
        "    idxs = []\n",
        "    for w in seq:\n",
        "        if w is None:\n",
        "            w = 'NOUN'\n",
        "        idxs.append(to_ix[w])\n",
        "    return idxs"
      ],
      "execution_count": 0,
      "outputs": []
    },
    {
      "cell_type": "markdown",
      "metadata": {
        "id": "BwP7o7EB0Xy6",
        "colab_type": "text"
      },
      "source": [
        "Создадим словари индексов для слов датасета и для меток."
      ]
    },
    {
      "cell_type": "code",
      "metadata": {
        "id": "T4GWevGIyESK",
        "colab_type": "code",
        "colab": {}
      },
      "source": [
        "word2id = {'<PAD>': 0}\n",
        "for sent, tags in training_data:\n",
        "    for word in sent:\n",
        "        if word not in word2id:\n",
        "            word2id[word] = len(word2id)\n",
        "for sent, tags in test_data:\n",
        "    for word in sent:\n",
        "        if word not in word2id:\n",
        "            word2id[word] = len(word2id)"
      ],
      "execution_count": 0,
      "outputs": []
    },
    {
      "cell_type": "code",
      "metadata": {
        "id": "_z3MX9MNyEPY",
        "colab_type": "code",
        "colab": {}
      },
      "source": [
        "UNIQUE_TAGS = ['<NOTAG>'] + sorted({token.upos for sent in full_train for token in sent if token.upos})\n",
        "label2id = {label: i for i, label in enumerate(UNIQUE_TAGS)}"
      ],
      "execution_count": 0,
      "outputs": []
    },
    {
      "cell_type": "markdown",
      "metadata": {
        "id": "IDKUGIOq0tdK",
        "colab_type": "text"
      },
      "source": [
        "Теперь преобразуем наш датасет. Переведём все токены и метки в их индексы, полученные массивы расширим паддингами до единого размера, а затем приведём их к типу `torch.tensor`."
      ]
    },
    {
      "cell_type": "code",
      "metadata": {
        "id": "3p_uxl27yENZ",
        "colab_type": "code",
        "colab": {}
      },
      "source": [
        "train_seq, train_lengths, train_label = [], [], []\n",
        "\n",
        "for tokens, labels in training_data:\n",
        "    t = prepare_sequence(tokens, word2id)\n",
        "    l = prepare_labels(labels, label2id)\n",
        "    train_seq.append(t)\n",
        "    train_lengths.append(len(t))\n",
        "    train_label.append(l)\n",
        "\n",
        "assert len(train_seq) == len(train_lengths) == len(train_label)"
      ],
      "execution_count": 0,
      "outputs": []
    },
    {
      "cell_type": "code",
      "metadata": {
        "id": "Rs12vuFSyELM",
        "colab_type": "code",
        "colab": {}
      },
      "source": [
        "test_seq, test_lengths, test_label = [], [], []\n",
        "\n",
        "for tokens, labels in test_data:\n",
        "    t = prepare_sequence(tokens, word2id)\n",
        "    l = prepare_labels(labels, label2id)\n",
        "    test_seq.append(t)\n",
        "    test_lengths.append(len(t))\n",
        "    test_label.append(l)\n",
        "\n",
        "assert len(test_seq) == len(test_lengths) == len(test_label)"
      ],
      "execution_count": 0,
      "outputs": []
    },
    {
      "cell_type": "markdown",
      "metadata": {
        "id": "O0jg2bTC1zc6",
        "colab_type": "text"
      },
      "source": [
        "Узнаем максимальные размеры наших последовательностей для того, чтобы знать, какой размер входящих данных использовать:"
      ]
    },
    {
      "cell_type": "code",
      "metadata": {
        "id": "BJ85O643yECU",
        "colab_type": "code",
        "outputId": "f44d368a-3b66-406d-dd5f-8d310084f7cb",
        "colab": {
          "base_uri": "https://localhost:8080/",
          "height": 34
        }
      },
      "source": [
        "max(train_lengths), max(test_lengths)"
      ],
      "execution_count": 14,
      "outputs": [
        {
          "output_type": "execute_result",
          "data": {
            "text/plain": [
              "(205, 144)"
            ]
          },
          "metadata": {
            "tags": []
          },
          "execution_count": 14
        }
      ]
    },
    {
      "cell_type": "markdown",
      "metadata": {
        "id": "MkVER7me2G0P",
        "colab_type": "text"
      },
      "source": [
        "Возьмём максимальный размер последовательности равный `205`, а все остальные последовательности нашего датасета расширим паддингами."
      ]
    },
    {
      "cell_type": "code",
      "metadata": {
        "id": "Tv7vbotUyEAF",
        "colab_type": "code",
        "colab": {}
      },
      "source": [
        "train_seq = pad_sequences(\n",
        "    train_seq,\n",
        "    maxlen=205,\n",
        "    dtype='long',\n",
        "    truncating='post',\n",
        "    padding='post'\n",
        ")\n",
        "train_label = pad_sequences(\n",
        "    train_label,\n",
        "    maxlen=205,\n",
        "    dtype='long',\n",
        "    truncating='post',\n",
        "    padding='post'\n",
        ")\n",
        "\n",
        "test_seq = pad_sequences(\n",
        "    test_seq,\n",
        "    maxlen=205,\n",
        "    dtype='long',\n",
        "    truncating='post',\n",
        "    padding='post'\n",
        ")\n",
        "test_label = pad_sequences(\n",
        "    test_label,\n",
        "    maxlen=205,\n",
        "    dtype='long',\n",
        "    truncating='post',\n",
        "    padding='post'\n",
        ")"
      ],
      "execution_count": 0,
      "outputs": []
    },
    {
      "cell_type": "markdown",
      "metadata": {
        "id": "S_lQ_2tJ2xb7",
        "colab_type": "text"
      },
      "source": [
        "Посмотрим, какие у нас теперь получились последовательности"
      ]
    },
    {
      "cell_type": "code",
      "metadata": {
        "id": "LHiOy-7ayD7T",
        "colab_type": "code",
        "outputId": "39793269-195b-43c7-806b-a0a4d383633a",
        "colab": {
          "base_uri": "https://localhost:8080/",
          "height": 289
        }
      },
      "source": [
        "print(train_seq[0])\n",
        "print()\n",
        "print(train_label[0])"
      ],
      "execution_count": 16,
      "outputs": [
        {
          "output_type": "stream",
          "text": [
            "[1 2 0 0 0 0 0 0 0 0 0 0 0 0 0 0 0 0 0 0 0 0 0 0 0 0 0 0 0 0 0 0 0 0 0 0 0\n",
            " 0 0 0 0 0 0 0 0 0 0 0 0 0 0 0 0 0 0 0 0 0 0 0 0 0 0 0 0 0 0 0 0 0 0 0 0 0\n",
            " 0 0 0 0 0 0 0 0 0 0 0 0 0 0 0 0 0 0 0 0 0 0 0 0 0 0 0 0 0 0 0 0 0 0 0 0 0\n",
            " 0 0 0 0 0 0 0 0 0 0 0 0 0 0 0 0 0 0 0 0 0 0 0 0 0 0 0 0 0 0 0 0 0 0 0 0 0\n",
            " 0 0 0 0 0 0 0 0 0 0 0 0 0 0 0 0 0 0 0 0 0 0 0 0 0 0 0 0 0 0 0 0 0 0 0 0 0\n",
            " 0 0 0 0 0 0 0 0 0 0 0 0 0 0 0 0 0 0 0 0]\n",
            "\n",
            "[ 8 13  0  0  0  0  0  0  0  0  0  0  0  0  0  0  0  0  0  0  0  0  0  0\n",
            "  0  0  0  0  0  0  0  0  0  0  0  0  0  0  0  0  0  0  0  0  0  0  0  0\n",
            "  0  0  0  0  0  0  0  0  0  0  0  0  0  0  0  0  0  0  0  0  0  0  0  0\n",
            "  0  0  0  0  0  0  0  0  0  0  0  0  0  0  0  0  0  0  0  0  0  0  0  0\n",
            "  0  0  0  0  0  0  0  0  0  0  0  0  0  0  0  0  0  0  0  0  0  0  0  0\n",
            "  0  0  0  0  0  0  0  0  0  0  0  0  0  0  0  0  0  0  0  0  0  0  0  0\n",
            "  0  0  0  0  0  0  0  0  0  0  0  0  0  0  0  0  0  0  0  0  0  0  0  0\n",
            "  0  0  0  0  0  0  0  0  0  0  0  0  0  0  0  0  0  0  0  0  0  0  0  0\n",
            "  0  0  0  0  0  0  0  0  0  0  0  0  0]\n"
          ],
          "name": "stdout"
        }
      ]
    },
    {
      "cell_type": "code",
      "metadata": {
        "id": "Asw4F8IZ67gb",
        "colab_type": "code",
        "colab": {}
      },
      "source": [
        "train_seq = torch.tensor(train_seq, dtype=torch.long)\n",
        "train_label = torch.tensor(train_label, dtype=torch.long)\n",
        "test_seq = torch.tensor(test_seq, dtype=torch.long)\n",
        "test_label = torch.tensor(test_label, dtype=torch.long)"
      ],
      "execution_count": 0,
      "outputs": []
    },
    {
      "cell_type": "markdown",
      "metadata": {
        "id": "JGfo448A3E2J",
        "colab_type": "text"
      },
      "source": [
        "# Подготовка к обучению"
      ]
    },
    {
      "cell_type": "markdown",
      "metadata": {
        "id": "z_t1tx4G40eQ",
        "colab_type": "text"
      },
      "source": [
        "## Модель"
      ]
    },
    {
      "cell_type": "code",
      "metadata": {
        "id": "BSBnilmryD2I",
        "colab_type": "code",
        "colab": {}
      },
      "source": [
        "class LSTMTagger(nn.Module):\n",
        "    def __init__(self, \n",
        "                 input_size, \n",
        "                 output_size, \n",
        "                 hidden_size, \n",
        "                 num_layers, \n",
        "                 vocab_size, \n",
        "                 embedding_size, \n",
        "                 batch_size,\n",
        "                 dropout):\n",
        "        super(LSTMTagger, self).__init__()\n",
        "\n",
        "        self.input_size = input_size\n",
        "        self.output_size = output_size\n",
        "        self.hidden_size = hidden_size\n",
        "        self.vocab_size = vocab_size\n",
        "        self.embedding_size = embedding_size\n",
        "        self.batch_size = batch_size\n",
        "\n",
        "        self.embedding = nn.Embedding(self.vocab_size, self.embedding_size)\n",
        "\n",
        "        self.lstm = nn.LSTM(\n",
        "            input_size=self.embedding_size,\n",
        "            hidden_size=self.hidden_size,\n",
        "            num_layers=num_layers,\n",
        "            batch_first=True,\n",
        "            dropout=dropout\n",
        "        )\n",
        "        \n",
        "        self.fc = nn.Linear(self.hidden_size, self.output_size)\n",
        "    \n",
        "    def forward(self, x):\n",
        "        # dim: batch_size x sent_max_len x embedding_dim\n",
        "        x = self.embedding(x)\n",
        "        # dim: batch_size x sent_max_len x lstm_hidden_dim\n",
        "        x, _ = self.lstm(x)\n",
        "        #dim: batch_size*sent_max_len x lstm_hidden_dim\n",
        "        x = x.reshape(-1, x.shape[2])\n",
        "        x = self.fc(x)\n",
        "        # dim: batch_size*sent_max_len x num_tags\n",
        "        x = F.log_softmax(x, dim=1)\n",
        "        return x"
      ],
      "execution_count": 0,
      "outputs": []
    },
    {
      "cell_type": "markdown",
      "metadata": {
        "id": "OBmCsYC45M02",
        "colab_type": "text"
      },
      "source": [
        "## CPU / GPU"
      ]
    },
    {
      "cell_type": "code",
      "metadata": {
        "id": "fBJVHrNayDyn",
        "colab_type": "code",
        "outputId": "8dd01426-e881-464d-8029-6c04c87a2ff5",
        "colab": {
          "base_uri": "https://localhost:8080/",
          "height": 51
        }
      },
      "source": [
        "device = 'cuda' if torch.cuda.is_available() else 'cpu'\n",
        "device = torch.device(device)\n",
        "\n",
        "print(device.type)\n",
        "if device.type == 'cuda':\n",
        "    print(torch.cuda.get_device_name(0))"
      ],
      "execution_count": 19,
      "outputs": [
        {
          "output_type": "stream",
          "text": [
            "cuda\n",
            "Tesla P100-PCIE-16GB\n"
          ],
          "name": "stdout"
        }
      ]
    },
    {
      "cell_type": "markdown",
      "metadata": {
        "id": "2m-elitl58AD",
        "colab_type": "text"
      },
      "source": [
        "## Параметры"
      ]
    },
    {
      "cell_type": "code",
      "metadata": {
        "id": "M0hESxVB52i5",
        "colab_type": "code",
        "colab": {}
      },
      "source": [
        "BATCH_SIZE = 128\n",
        "EPOCHS = 2\n",
        "LSTM_HIDDEN_SIZE = 128\n",
        "LSTM_NUM_LAYERS = 2\n",
        "LSTM_DROPOUT = .2\n",
        "EMBEDDING_SIZE = 300\n",
        "LEARNING_RATE = .001"
      ],
      "execution_count": 0,
      "outputs": []
    },
    {
      "cell_type": "markdown",
      "metadata": {
        "id": "4TrveMv96vx3",
        "colab_type": "text"
      },
      "source": [
        "## Инициализация загрузчиков данных\n",
        "\n",
        "Для подачи батчей нейросети воспользуемся стандартным загрузчиком `DataLoader`. При этом данные будем случайным образом сэмплитовать."
      ]
    },
    {
      "cell_type": "code",
      "metadata": {
        "id": "y2z50MGI6ucj",
        "colab_type": "code",
        "colab": {}
      },
      "source": [
        "train = TensorDataset(train_seq, train_label)\n",
        "test = TensorDataset(test_seq, test_label)\n",
        "train_dataloader = DataLoader(\n",
        "    train,\n",
        "    sampler=RandomSampler(train),\n",
        "    batch_size=BATCH_SIZE\n",
        ")\n",
        "test_dataloader = DataLoader(\n",
        "    test,\n",
        "    sampler=RandomSampler(test),\n",
        "    batch_size=BATCH_SIZE\n",
        ")"
      ],
      "execution_count": 0,
      "outputs": []
    },
    {
      "cell_type": "markdown",
      "metadata": {
        "id": "5-bZi_It7wKn",
        "colab_type": "text"
      },
      "source": [
        "## Инициализация модели, оптимизатора и функции потерь"
      ]
    },
    {
      "cell_type": "code",
      "metadata": {
        "id": "oZvJffeh7qxY",
        "colab_type": "code",
        "colab": {}
      },
      "source": [
        "model = LSTMTagger(\n",
        "    # Этот параметр должен соответствовать размеру сэмпла\n",
        "    input_size=max(train_lengths),\n",
        "    # Равен количеству меток\n",
        "    output_size=len(label2id),\n",
        "    hidden_size=LSTM_HIDDEN_SIZE,\n",
        "    num_layers=LSTM_NUM_LAYERS,\n",
        "    # Размер словаря, нужен для эмбеддинга\n",
        "    vocab_size=len(word2id),\n",
        "    embedding_size=EMBEDDING_SIZE,\n",
        "    batch_size=BATCH_SIZE,\n",
        "    dropout=LSTM_DROPOUT\n",
        ")\n",
        "#criterion = nn.CrossEntropyLoss()\n",
        "optimizer = torch.optim.AdamW(model.parameters(), lr=LEARNING_RATE)"
      ],
      "execution_count": 0,
      "outputs": []
    },
    {
      "cell_type": "markdown",
      "metadata": {
        "id": "Tzc9SRIlEyM_",
        "colab_type": "text"
      },
      "source": [
        "## Взвешеная функция потерь\n",
        "\n",
        "Распределение меток нашего датасета не является сбалансированным, кроме того, мы используем паддинги. Всё это будет влиять на процесс обучения и оценку качества нашей модели. Поэтому будем использовать взвешенные параметры для каждой метки, чтобы произвести более сбалансированное обучение."
      ]
    },
    {
      "cell_type": "code",
      "metadata": {
        "id": "yqpl6RZFFRte",
        "colab_type": "code",
        "outputId": "1a64064e-3eb7-43b8-e707-67cf129bad8a",
        "colab": {
          "base_uri": "https://localhost:8080/",
          "height": 323
        }
      },
      "source": [
        "label_counter = Counter()\n",
        "\n",
        "for labels in train_label.numpy():\n",
        "    for label in labels:\n",
        "        label_counter[label] += 1\n",
        "        \n",
        "label_counter.most_common()"
      ],
      "execution_count": 23,
      "outputs": [
        {
          "output_type": "execute_result",
          "data": {
            "text/plain": [
              "[(0, 9135344),\n",
              " (8, 215544),\n",
              " (13, 157989),\n",
              " (16, 97670),\n",
              " (1, 85589),\n",
              " (2, 81963),\n",
              " (3, 44101),\n",
              " (11, 38438),\n",
              " (12, 32401),\n",
              " (5, 30432),\n",
              " (10, 26651),\n",
              " (6, 21968),\n",
              " (14, 16219),\n",
              " (9, 13746),\n",
              " (4, 7522),\n",
              " (15, 840),\n",
              " (17, 375),\n",
              " (7, 78)]"
            ]
          },
          "metadata": {
            "tags": []
          },
          "execution_count": 23
        }
      ]
    },
    {
      "cell_type": "code",
      "metadata": {
        "id": "D0GJ5TOXKelu",
        "colab_type": "code",
        "colab": {}
      },
      "source": [
        "label_weights = torch.ones(len(label_counter)).to(device)\n",
        "label_divs = torch.ones(len(label_counter)).to(device)\n",
        "\n",
        "for tag, inv_weight in label_counter.most_common():\n",
        "    label_divs[tag] = inv_weight\n",
        "\n",
        "norm = torch.norm(label_divs, p=2, dim=0).detach()\n",
        "label_divs = label_divs.div(norm.expand_as(label_divs))\n",
        "\n",
        "label_weights /= label_divs"
      ],
      "execution_count": 0,
      "outputs": []
    },
    {
      "cell_type": "markdown",
      "metadata": {
        "id": "mQGdvIJNL3Uw",
        "colab_type": "text"
      },
      "source": [
        "Теперь у нас для каждой метки имеется вес:"
      ]
    },
    {
      "cell_type": "code",
      "metadata": {
        "id": "LMd4DpI7L0jp",
        "colab_type": "code",
        "outputId": "977a3a95-6f8b-4f52-a705-859c6fff0d2d",
        "colab": {
          "base_uri": "https://localhost:8080/",
          "height": 85
        }
      },
      "source": [
        "print(label_weights.detach())"
      ],
      "execution_count": 25,
      "outputs": [
        {
          "output_type": "stream",
          "text": [
            "tensor([1.0006e+00, 1.0680e+02, 1.1153e+02, 2.0727e+02, 1.2152e+03, 3.0037e+02,\n",
            "        4.1610e+02, 1.1719e+05, 4.2409e+01, 6.6499e+02, 3.4299e+02, 2.3781e+02,\n",
            "        2.8212e+02, 5.7858e+01, 5.6359e+02, 1.0882e+04, 9.3590e+01, 2.4376e+04],\n",
            "       device='cuda:0')\n"
          ],
          "name": "stdout"
        }
      ]
    },
    {
      "cell_type": "code",
      "metadata": {
        "id": "z7KMBA0bMeBL",
        "colab_type": "code",
        "colab": {}
      },
      "source": [
        "criterion = nn.CrossEntropyLoss(weight=label_weights)"
      ],
      "execution_count": 0,
      "outputs": []
    },
    {
      "cell_type": "markdown",
      "metadata": {
        "id": "_XAl2zPa8sfN",
        "colab_type": "text"
      },
      "source": [
        "Архитектура нашей модели:"
      ]
    },
    {
      "cell_type": "code",
      "metadata": {
        "id": "XpAz2EZB8lHN",
        "colab_type": "code",
        "outputId": "5ac9fc80-6333-4878-cbbe-1b452c58470c",
        "colab": {
          "base_uri": "https://localhost:8080/",
          "height": 102
        }
      },
      "source": [
        "print(model)"
      ],
      "execution_count": 27,
      "outputs": [
        {
          "output_type": "stream",
          "text": [
            "LSTMTagger(\n",
            "  (embedding): Embedding(117012, 300)\n",
            "  (lstm): LSTM(300, 128, num_layers=2, batch_first=True, dropout=0.2)\n",
            "  (fc): Linear(in_features=128, out_features=18, bias=True)\n",
            ")\n"
          ],
          "name": "stdout"
        }
      ]
    },
    {
      "cell_type": "markdown",
      "metadata": {
        "id": "Et5KuDNH8ykD",
        "colab_type": "text"
      },
      "source": [
        "Количество параметров модели:"
      ]
    },
    {
      "cell_type": "code",
      "metadata": {
        "id": "1Myfh1Ny8vTM",
        "colab_type": "code",
        "outputId": "52a8817c-6ca4-470f-b38d-740181bbc5cd",
        "colab": {
          "base_uri": "https://localhost:8080/",
          "height": 34
        }
      },
      "source": [
        "print(f'{sum(np.product(t.shape) for t in model.parameters()):,}')"
      ],
      "execution_count": 28,
      "outputs": [
        {
          "output_type": "stream",
          "text": [
            "35,458,178\n"
          ],
          "name": "stdout"
        }
      ]
    },
    {
      "cell_type": "markdown",
      "metadata": {
        "id": "1dmrjiO-9r2L",
        "colab_type": "text"
      },
      "source": [
        "## Обучение"
      ]
    },
    {
      "cell_type": "code",
      "metadata": {
        "id": "JWK4dFxA88lv",
        "colab_type": "code",
        "outputId": "a5486898-ea16-44dc-e0b1-c64c1ab54c72",
        "colab": {
          "base_uri": "https://localhost:8080/",
          "height": 221
        }
      },
      "source": [
        "model.to(device)\n",
        "train_losses = []\n",
        "test_losses = []\n",
        "train_start = time.monotonic()\n",
        "for epoch in range(1, EPOCHS+1):\n",
        "    # Используем такой метод для получения отметки времени, чтобы не было\n",
        "    # проблем с timedelta \n",
        "    epoch_start = time.monotonic()\n",
        "    model.train()\n",
        "    mean_train_loss = 0\n",
        "    \n",
        "    for i, (seq_tensor, label) in enumerate(train_dataloader):\n",
        "        # Обнулим градиенты\n",
        "        optimizer.zero_grad()\n",
        "        # Переведём наш батч на выбранное устройство\n",
        "        seq_tensor = seq_tensor.to(device)\n",
        "        label = label.to(device)\n",
        "\n",
        "        # Получим результат после прямого прогона\n",
        "        output = model(seq_tensor)\n",
        "\n",
        "        # Функция потерь\n",
        "        loss = criterion(output, label.view(-1))\n",
        "        train_losses.append(loss.item())\n",
        "        mean_train_loss += loss.item()\n",
        "\n",
        "        # обратное распространение ошибки\n",
        "        loss.backward()\n",
        "        optimizer.step()\n",
        "    mean_train_loss /= i\n",
        "\n",
        "    # проверим модель на тестовых данных\n",
        "    mean_test_loss = 0\n",
        "    model.eval()\n",
        "    with torch.no_grad():        \n",
        "        for i, (seq_tensor, label) in enumerate(test_dataloader):\n",
        "            seq_tensor = seq_tensor.to(device)\n",
        "            label = label.to(device)\n",
        "\n",
        "            output = model(seq_tensor)\n",
        "\n",
        "            loss = criterion(output, label.view(-1))\n",
        "            test_losses.append(loss.item())\n",
        "            mean_test_loss += loss.item()\n",
        "    mean_test_loss /= i\n",
        "\n",
        "    # Results\n",
        "    print(f'Эпоха {epoch}')\n",
        "    print(f'Время эпохи: {timedelta(seconds=time.monotonic() - epoch_start)}')\n",
        "    print(f'Общее время обучения: {timedelta(seconds=time.monotonic() - train_start)}')\n",
        "    print(f'Средний лосс на обучении:', mean_train_loss)\n",
        "    print(f'Средний лосс на тесте:', mean_test_loss)\n",
        "    print('')"
      ],
      "execution_count": 29,
      "outputs": [
        {
          "output_type": "stream",
          "text": [
            "Эпоха 1\n",
            "Время эпохи: 0:00:17.367222\n",
            "Общее время обучения: 0:00:17.367540\n",
            "Средний лосс на обучении: 1.2415809230854504\n",
            "Средний лосс на тесте: 0.8638946600988799\n",
            "\n",
            "Эпоха 2\n",
            "Время эпохи: 0:00:17.104209\n",
            "Общее время обучения: 0:00:34.472236\n",
            "Средний лосс на обучении: 0.516047059746552\n",
            "Средний лосс на тесте: 0.6768655256897795\n",
            "\n"
          ],
          "name": "stdout"
        }
      ]
    },
    {
      "cell_type": "markdown",
      "metadata": {
        "id": "AkBeqesRCN5B",
        "colab_type": "text"
      },
      "source": [
        "## Динамика обучения"
      ]
    },
    {
      "cell_type": "code",
      "metadata": {
        "id": "XmAWbGUkCFMX",
        "colab_type": "code",
        "outputId": "9ba9a35f-2d47-4e86-ffd7-082bf45d1934",
        "colab": {
          "base_uri": "https://localhost:8080/",
          "height": 508
        }
      },
      "source": [
        "plt.figure(figsize=(25, 10))\n",
        "plt.plot(train_losses)\n",
        "#plt.plot(test_losses)\n",
        "plt.title('Loss на обучении')\n",
        "plt.xlabel('Батчи')\n",
        "plt.ylabel('Потери')\n",
        "plt.show()"
      ],
      "execution_count": 30,
      "outputs": [
        {
          "output_type": "display_data",
          "data": {
            "image/png": "[encoded data removed]",
            "text/plain": [
              "<Figure size 1800x720 with 1 Axes>"
            ]
          },
          "metadata": {
            "tags": [],
            "needs_background": "light"
          }
        }
      ]
    },
    {
      "cell_type": "markdown",
      "metadata": {
        "id": "OVUmaHhhROq7",
        "colab_type": "text"
      },
      "source": [
        "## Посмотрим, как предсказывает модель"
      ]
    },
    {
      "cell_type": "code",
      "metadata": {
        "id": "sKCoC7GVU5b0",
        "colab_type": "code",
        "colab": {}
      },
      "source": [
        "id2label = dict(map(reversed, label2id.items()))"
      ],
      "execution_count": 0,
      "outputs": []
    },
    {
      "cell_type": "code",
      "metadata": {
        "id": "iBPuKUnBSm3H",
        "colab_type": "code",
        "colab": {
          "base_uri": "https://localhost:8080/",
          "height": 170
        },
        "outputId": "0c030339-4fdb-4bb1-d449-8c3d4e5da35f"
      },
      "source": [
        "model.eval()\n",
        "\n",
        "sentence, true_labels = training_data[222]\n",
        "s_ids = prepare_sequence(sentence, word2id)\n",
        "\n",
        "s_ids = torch.tensor([s_ids], dtype=torch.long).to(device)\n",
        "with torch.no_grad():\n",
        "    output = model(s_ids)\n",
        "logits = output.detach().cpu().numpy()\n",
        "predicted = np.argmax(logits, axis=1)\n",
        "predicted = [id2label[id] for id in predicted]\n",
        "\n",
        "print (\"{:<20} {:<10} {:<10}\".format('Токен', 'Истинная', 'Предсказанная'))\n",
        "print (\"{:<20} {:<10} {:<10}\".format('-----', '--------', '-------------'))\n",
        "for t, t_l, p_l in zip(sentence, true_labels, predicted):\n",
        "    print (\"{:<20} {:<10} {:<10}\".format(t, t_l, p_l))"
      ],
      "execution_count": 71,
      "outputs": [
        {
          "output_type": "stream",
          "text": [
            "Токен                Истинная   Предсказанная\n",
            "-----                --------   -------------\n",
            "Единственная         ADJ        ADJ       \n",
            "возможность          NOUN       NOUN      \n",
            "-                    PUNCT      PUNCT     \n",
            "снять                VERB       VERB      \n",
            "частную              ADJ        VERB      \n",
            "квартиру             NOUN       NOUN      \n",
            ".                    PUNCT      PUNCT     \n"
          ],
          "name": "stdout"
        }
      ]
    },
    {
      "cell_type": "code",
      "metadata": {
        "id": "j6AxtBy3ZhrS",
        "colab_type": "code",
        "colab": {}
      },
      "source": [
        ""
      ],
      "execution_count": 0,
      "outputs": []
    }
  ]
}