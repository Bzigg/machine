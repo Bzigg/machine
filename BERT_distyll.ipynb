{
  "nbformat": 4,
  "nbformat_minor": 0,
  "metadata": {
    "colab": {
      "name": "Дистилляция BERT",
      "provenance": [],
      "collapsed_sections": [],
      "machine_shape": "hm",
      "mount_file_id": "1KARKe_KL2gFUD6K1T7Z6dVXsndn4ifSU",
      "authorship_tag": "ABX9TyMRVuK1wZtQsSSk9pjC3FyZ",
      "include_colab_link": true
    },
    "kernelspec": {
      "name": "python3",
      "display_name": "Python 3"
    },
    "accelerator": "GPU",
    "widgets": {
      "application/vnd.jupyter.widget-state+json": {
        "5d54c383ef774192af04513346221af9": {
          "model_module": "@jupyter-widgets/controls",
          "model_name": "HBoxModel",
          "state": {
            "_view_name": "HBoxView",
            "_dom_classes": [],
            "_model_name": "HBoxModel",
            "_view_module": "@jupyter-widgets/controls",
            "_model_module_version": "1.5.0",
            "_view_count": null,
            "_view_module_version": "1.5.0",
            "box_style": "",
            "layout": "IPY_MODEL_1dede662b7984963a5816b52bd8daf46",
            "_model_module": "@jupyter-widgets/controls",
            "children": [
              "IPY_MODEL_dcb0c511857441da8ceacb348fdf2cd9",
              "IPY_MODEL_5c37425afd484d7ab61250eefa2ab2e2"
            ]
          }
        },
        "1dede662b7984963a5816b52bd8daf46": {
          "model_module": "@jupyter-widgets/base",
          "model_name": "LayoutModel",
          "state": {
            "_view_name": "LayoutView",
            "grid_template_rows": null,
            "right": null,
            "justify_content": null,
            "_view_module": "@jupyter-widgets/base",
            "overflow": null,
            "_model_module_version": "1.2.0",
            "_view_count": null,
            "flex_flow": null,
            "width": null,
            "min_width": null,
            "border": null,
            "align_items": null,
            "bottom": null,
            "_model_module": "@jupyter-widgets/base",
            "top": null,
            "grid_column": null,
            "overflow_y": null,
            "overflow_x": null,
            "grid_auto_flow": null,
            "grid_area": null,
            "grid_template_columns": null,
            "flex": null,
            "_model_name": "LayoutModel",
            "justify_items": null,
            "grid_row": null,
            "max_height": null,
            "align_content": null,
            "visibility": null,
            "align_self": null,
            "height": null,
            "min_height": null,
            "padding": null,
            "grid_auto_rows": null,
            "grid_gap": null,
            "max_width": null,
            "order": null,
            "_view_module_version": "1.2.0",
            "grid_template_areas": null,
            "object_position": null,
            "object_fit": null,
            "grid_auto_columns": null,
            "margin": null,
            "display": null,
            "left": null
          }
        },
        "dcb0c511857441da8ceacb348fdf2cd9": {
          "model_module": "@jupyter-widgets/controls",
          "model_name": "IntProgressModel",
          "state": {
            "_view_name": "ProgressView",
            "style": "IPY_MODEL_0cede321ba8c4c879d812c5e4a592c9a",
            "_dom_classes": [],
            "description": "100%",
            "_model_name": "IntProgressModel",
            "bar_style": "success",
            "max": 662,
            "_view_module": "@jupyter-widgets/controls",
            "_model_module_version": "1.5.0",
            "value": 662,
            "_view_count": null,
            "_view_module_version": "1.5.0",
            "orientation": "horizontal",
            "min": 0,
            "description_tooltip": null,
            "_model_module": "@jupyter-widgets/controls",
            "layout": "IPY_MODEL_0a742f5da212469cac985523a8ecddfb"
          }
        },
        "5c37425afd484d7ab61250eefa2ab2e2": {
          "model_module": "@jupyter-widgets/controls",
          "model_name": "HTMLModel",
          "state": {
            "_view_name": "HTMLView",
            "style": "IPY_MODEL_68d22680de0547cb8eba2d5fa2d6d02a",
            "_dom_classes": [],
            "description": "",
            "_model_name": "HTMLModel",
            "placeholder": "​",
            "_view_module": "@jupyter-widgets/controls",
            "_model_module_version": "1.5.0",
            "value": " 662/662 [02:57&lt;00:00,  3.73it/s]",
            "_view_count": null,
            "_view_module_version": "1.5.0",
            "description_tooltip": null,
            "_model_module": "@jupyter-widgets/controls",
            "layout": "IPY_MODEL_0fd159332ec2436eba996fb35b1b89bc"
          }
        },
        "0cede321ba8c4c879d812c5e4a592c9a": {
          "model_module": "@jupyter-widgets/controls",
          "model_name": "ProgressStyleModel",
          "state": {
            "_view_name": "StyleView",
            "_model_name": "ProgressStyleModel",
            "description_width": "initial",
            "_view_module": "@jupyter-widgets/base",
            "_model_module_version": "1.5.0",
            "_view_count": null,
            "_view_module_version": "1.2.0",
            "bar_color": null,
            "_model_module": "@jupyter-widgets/controls"
          }
        },
        "0a742f5da212469cac985523a8ecddfb": {
          "model_module": "@jupyter-widgets/base",
          "model_name": "LayoutModel",
          "state": {
            "_view_name": "LayoutView",
            "grid_template_rows": null,
            "right": null,
            "justify_content": null,
            "_view_module": "@jupyter-widgets/base",
            "overflow": null,
            "_model_module_version": "1.2.0",
            "_view_count": null,
            "flex_flow": null,
            "width": null,
            "min_width": null,
            "border": null,
            "align_items": null,
            "bottom": null,
            "_model_module": "@jupyter-widgets/base",
            "top": null,
            "grid_column": null,
            "overflow_y": null,
            "overflow_x": null,
            "grid_auto_flow": null,
            "grid_area": null,
            "grid_template_columns": null,
            "flex": null,
            "_model_name": "LayoutModel",
            "justify_items": null,
            "grid_row": null,
            "max_height": null,
            "align_content": null,
            "visibility": null,
            "align_self": null,
            "height": null,
            "min_height": null,
            "padding": null,
            "grid_auto_rows": null,
            "grid_gap": null,
            "max_width": null,
            "order": null,
            "_view_module_version": "1.2.0",
            "grid_template_areas": null,
            "object_position": null,
            "object_fit": null,
            "grid_auto_columns": null,
            "margin": null,
            "display": null,
            "left": null
          }
        },
        "68d22680de0547cb8eba2d5fa2d6d02a": {
          "model_module": "@jupyter-widgets/controls",
          "model_name": "DescriptionStyleModel",
          "state": {
            "_view_name": "StyleView",
            "_model_name": "DescriptionStyleModel",
            "description_width": "",
            "_view_module": "@jupyter-widgets/base",
            "_model_module_version": "1.5.0",
            "_view_count": null,
            "_view_module_version": "1.2.0",
            "_model_module": "@jupyter-widgets/controls"
          }
        },
        "0fd159332ec2436eba996fb35b1b89bc": {
          "model_module": "@jupyter-widgets/base",
          "model_name": "LayoutModel",
          "state": {
            "_view_name": "LayoutView",
            "grid_template_rows": null,
            "right": null,
            "justify_content": null,
            "_view_module": "@jupyter-widgets/base",
            "overflow": null,
            "_model_module_version": "1.2.0",
            "_view_count": null,
            "flex_flow": null,
            "width": null,
            "min_width": null,
            "border": null,
            "align_items": null,
            "bottom": null,
            "_model_module": "@jupyter-widgets/base",
            "top": null,
            "grid_column": null,
            "overflow_y": null,
            "overflow_x": null,
            "grid_auto_flow": null,
            "grid_area": null,
            "grid_template_columns": null,
            "flex": null,
            "_model_name": "LayoutModel",
            "justify_items": null,
            "grid_row": null,
            "max_height": null,
            "align_content": null,
            "visibility": null,
            "align_self": null,
            "height": null,
            "min_height": null,
            "padding": null,
            "grid_auto_rows": null,
            "grid_gap": null,
            "max_width": null,
            "order": null,
            "_view_module_version": "1.2.0",
            "grid_template_areas": null,
            "object_position": null,
            "object_fit": null,
            "grid_auto_columns": null,
            "margin": null,
            "display": null,
            "left": null
          }
        }
      }
    }
  },
  "cells": [
    {
      "cell_type": "markdown",
      "metadata": {
        "id": "view-in-github",
        "colab_type": "text"
      },
      "source": [
        "<a href=\"https://colab.research.google.com/github/blanchefort/text_mining/blob/master/BERT_distyll.ipynb\" target=\"_parent\"><img src=\"https://colab.research.google.com/assets/colab-badge.svg\" alt=\"Open In Colab\"/></a>"
      ]
    },
    {
      "cell_type": "markdown",
      "metadata": {
        "id": "plE0CwLdjNhz",
        "colab_type": "text"
      },
      "source": [
        "# Дистилляция BERT\n",
        "\n",
        "Дообученная модель BERT показывает очень хорошее качество при решении множества NLP-задач. Однако, её не всегда можно применить на практике из-за того, что модель очень большая и работает дастаточно медленно. В связи с этим было придумано несколько способов обойти это ограничение.\n",
        "\n",
        "Один из способов - `knowledge distillation`.\n",
        "\n",
        "Суть метода заключается в следующем. Мы берём две модели - нашу обученную на решение конкретной задачи BERT (модель-учитель) и модель с более простой архитектурой (модель-ученик). Модель-ученик будет обучаться поведению модели-учителя: логиты Берта мы будем подавать модели-ученику в процессе её обучения.\n",
        "\n",
        "В качестве модели-учителя возьмём уже обученную ранее модель, классифицирующую названия строительных товаров."
      ]
    },
    {
      "cell_type": "markdown",
      "metadata": {
        "id": "1WsUECVw1_d4",
        "colab_type": "text"
      },
      "source": [
        "## Библиотеки"
      ]
    },
    {
      "cell_type": "code",
      "metadata": {
        "id": "bcdCN7EMjMY7",
        "colab_type": "code",
        "colab": {}
      },
      "source": [
        "pip install transformers catboost"
      ],
      "execution_count": 0,
      "outputs": []
    },
    {
      "cell_type": "code",
      "metadata": {
        "id": "Mgcd-xHn2aum",
        "colab_type": "code",
        "outputId": "4fc4354c-6ba0-4c7d-90fb-2dc4654b1e0a",
        "colab": {
          "base_uri": "https://localhost:8080/",
          "height": 51
        }
      },
      "source": [
        "import os\n",
        "import random\n",
        "import numpy as np\n",
        "import pandas as pd\n",
        "import torch\n",
        "\n",
        "from transformers import AutoConfig, AutoModelForSequenceClassification\n",
        "from transformers import AutoTokenizer\n",
        "from torch.utils.data import TensorDataset, DataLoader, SequentialSampler\n",
        "\n",
        "from catboost import Pool, CatBoostRegressor\n",
        "\n",
        "from sklearn.metrics import classification_report\n",
        "from tqdm.notebook import tqdm\n",
        "\n",
        "SEED = 22\n",
        "os.environ['PYTHONHASHSEED'] = str(SEED)\n",
        "random.seed(SEED)\n",
        "np.random.seed(SEED)\n",
        "torch.manual_seed(SEED)\n",
        "torch.cuda.manual_seed(SEED)\n",
        "torch.backends.cudnn.benchmark = False\n",
        "torch.backends.cudnn.deterministic = True\n",
        "\n",
        "device = torch.device('cuda' if torch.cuda.is_available() else 'cpu')\n",
        "print(device.type)\n",
        "if device.type == 'cuda':\n",
        "    print(torch.cuda.get_device_name(0))"
      ],
      "execution_count": 77,
      "outputs": [
        {
          "output_type": "stream",
          "text": [
            "cuda\n",
            "Tesla P100-PCIE-16GB\n"
          ],
          "name": "stdout"
        }
      ]
    },
    {
      "cell_type": "markdown",
      "metadata": {
        "id": "-yldC28F9FEG",
        "colab_type": "text"
      },
      "source": [
        "## Загрузка токенизатора, модели, конфигурации"
      ]
    },
    {
      "cell_type": "code",
      "metadata": {
        "id": "9z_jfd9b9KcZ",
        "colab_type": "code",
        "colab": {}
      },
      "source": [
        "# config\n",
        "config = AutoConfig.from_pretrained('/content/drive/My Drive/colab_data/leroymerlin/model/BERT_model')\n",
        "# tokenizer\n",
        "tokenizer = AutoTokenizer.from_pretrained('/content/drive/My Drive/colab_data/leroymerlin/model/BERT_model', pad_to_max_length=True)\n",
        "# model\n",
        "model = AutoModelForSequenceClassification.from_pretrained('/content/drive/My Drive/colab_data/leroymerlin/model/BERT_model', config=config)"
      ],
      "execution_count": 0,
      "outputs": []
    },
    {
      "cell_type": "markdown",
      "metadata": {
        "id": "C9S05qTq2B0f",
        "colab_type": "text"
      },
      "source": [
        "## Подготовка данных"
      ]
    },
    {
      "cell_type": "code",
      "metadata": {
        "id": "izr-AedA4C_c",
        "colab_type": "code",
        "colab": {}
      },
      "source": [
        "category_index = {'Водоснабжение': 8,\n",
        " 'Декор': 12,\n",
        " 'Инструменты': 4,\n",
        " 'Краски': 11,\n",
        " 'Кухни': 15,\n",
        " 'Напольные покрытия': 5,\n",
        " 'Окна и двери': 2,\n",
        " 'Освещение': 13,\n",
        " 'Плитка': 6,\n",
        " 'Сад': 9,\n",
        " 'Сантехника': 7,\n",
        " 'Скобяные изделия': 10,\n",
        " 'Столярные изделия': 1,\n",
        " 'Стройматериалы': 0,\n",
        " 'Хранение': 14,\n",
        " 'Электротовары': 3}\n",
        "category_index_inverted = dict(map(reversed, category_index.items()))"
      ],
      "execution_count": 0,
      "outputs": []
    },
    {
      "cell_type": "code",
      "metadata": {
        "id": "D7QxF-G4lAhI",
        "colab_type": "code",
        "colab": {}
      },
      "source": [
        "df = pd.read_csv('/content/drive/My Drive/colab_data/leroymerlin/to_classifier.csv')\n",
        "sentences = df.name.values\n",
        "labels = [category_index[i] for i in df.category_1.values]"
      ],
      "execution_count": 0,
      "outputs": []
    },
    {
      "cell_type": "code",
      "metadata": {
        "id": "AnU6ho6Q4C6z",
        "colab_type": "code",
        "colab": {}
      },
      "source": [
        "tokens = [tokenizer.encode(\n",
        "        sent, \n",
        "        add_special_tokens=True, \n",
        "        max_length=24, \n",
        "        pad_to_max_length='right') for sent in sentences]"
      ],
      "execution_count": 0,
      "outputs": []
    },
    {
      "cell_type": "code",
      "metadata": {
        "id": "tjNcxaZB9CMM",
        "colab_type": "code",
        "colab": {}
      },
      "source": [
        "tokens_tensor = torch.tensor(tokens)\n",
        "#labels_tensor = torch.tensor(labels)"
      ],
      "execution_count": 0,
      "outputs": []
    },
    {
      "cell_type": "code",
      "metadata": {
        "id": "hd6Kddne9CDM",
        "colab_type": "code",
        "colab": {}
      },
      "source": [
        "BATCH_SIZE = 400\n",
        "#full_dataset = TensorDataset(tokens_tensor, labels_tensor)\n",
        "sampler = SequentialSampler(tokens_tensor)\n",
        "dataloader = DataLoader(tokens_tensor, sampler=sampler, batch_size=BATCH_SIZE)"
      ],
      "execution_count": 0,
      "outputs": []
    },
    {
      "cell_type": "markdown",
      "metadata": {
        "id": "93sPGTnJ2H6k",
        "colab_type": "text"
      },
      "source": [
        "## Получение логитов BERT"
      ]
    },
    {
      "cell_type": "code",
      "metadata": {
        "id": "qYxIZQHj2SER",
        "colab_type": "code",
        "colab": {
          "base_uri": "https://localhost:8080/",
          "height": 66,
          "referenced_widgets": [
            "5d54c383ef774192af04513346221af9",
            "1dede662b7984963a5816b52bd8daf46",
            "dcb0c511857441da8ceacb348fdf2cd9",
            "5c37425afd484d7ab61250eefa2ab2e2",
            "0cede321ba8c4c879d812c5e4a592c9a",
            "0a742f5da212469cac985523a8ecddfb",
            "68d22680de0547cb8eba2d5fa2d6d02a",
            "0fd159332ec2436eba996fb35b1b89bc"
          ]
        },
        "outputId": "2b12c20e-96d0-4e04-c503-fc9eef4facb4"
      },
      "source": [
        "train_logits = []\n",
        "with torch.no_grad():\n",
        "    model.to(device)\n",
        "    for batch in tqdm(dataloader):\n",
        "        batch = batch.to(device)\n",
        "        outputs = model(batch)\n",
        "        logits = outputs[0].detach().cpu().numpy()\n",
        "        train_logits.extend(logits)"
      ],
      "execution_count": 84,
      "outputs": [
        {
          "output_type": "display_data",
          "data": {
            "application/vnd.jupyter.widget-view+json": {
              "model_id": "5d54c383ef774192af04513346221af9",
              "version_minor": 0,
              "version_major": 2
            },
            "text/plain": [
              "HBox(children=(IntProgress(value=0, max=662), HTML(value='')))"
            ]
          },
          "metadata": {
            "tags": []
          }
        },
        {
          "output_type": "stream",
          "text": [
            "\n"
          ],
          "name": "stdout"
        }
      ]
    },
    {
      "cell_type": "code",
      "metadata": {
        "id": "WiNnrGSICJnk",
        "colab_type": "code",
        "colab": {}
      },
      "source": [
        "#train_logits = np.vstack(train_logits)"
      ],
      "execution_count": 0,
      "outputs": []
    },
    {
      "cell_type": "markdown",
      "metadata": {
        "id": "cPgXAe7m2OyZ",
        "colab_type": "text"
      },
      "source": [
        "## Обучение ученика\n",
        "\n",
        "Теперь возьмём мультирегрессионную модель от CatBoost и передадим ей все полученные логиты."
      ]
    },
    {
      "cell_type": "code",
      "metadata": {
        "id": "epllhG66MjLf",
        "colab_type": "code",
        "colab": {}
      },
      "source": [
        "data_pool = Pool(tokens, train_logits)"
      ],
      "execution_count": 0,
      "outputs": []
    },
    {
      "cell_type": "code",
      "metadata": {
        "id": "DQrBh8g2MjGd",
        "colab_type": "code",
        "colab": {}
      },
      "source": [
        "distilled_model = CatBoostRegressor(iterations=2000, \n",
        "                          depth=4, \n",
        "                          learning_rate=.1, \n",
        "                          loss_function='MultiRMSE',\n",
        "                          verbose=200)"
      ],
      "execution_count": 0,
      "outputs": []
    },
    {
      "cell_type": "code",
      "metadata": {
        "id": "47QTqHkpMjCh",
        "colab_type": "code",
        "colab": {
          "base_uri": "https://localhost:8080/",
          "height": 221
        },
        "outputId": "73bc390b-c610-4f3a-f43b-ad90bd762785"
      },
      "source": [
        "distilled_model.fit(data_pool)"
      ],
      "execution_count": 88,
      "outputs": [
        {
          "output_type": "stream",
          "text": [
            "0:\tlearn: 11.6947874\ttotal: 275ms\tremaining: 9m 9s\n",
            "200:\tlearn: 9.0435970\ttotal: 47s\tremaining: 7m\n",
            "400:\tlearn: 8.2920608\ttotal: 1m 32s\tremaining: 6m 10s\n",
            "600:\tlearn: 7.7736947\ttotal: 2m 18s\tremaining: 5m 22s\n",
            "800:\tlearn: 7.3674586\ttotal: 3m 4s\tremaining: 4m 36s\n",
            "1000:\tlearn: 7.0166625\ttotal: 3m 51s\tremaining: 3m 51s\n",
            "1200:\tlearn: 6.7202548\ttotal: 4m 38s\tremaining: 3m 5s\n",
            "1400:\tlearn: 6.4602129\ttotal: 5m 25s\tremaining: 2m 19s\n",
            "1600:\tlearn: 6.2248947\ttotal: 6m 12s\tremaining: 1m 32s\n",
            "1800:\tlearn: 6.0164036\ttotal: 7m\tremaining: 46.4s\n",
            "1999:\tlearn: 5.8322141\ttotal: 7m 46s\tremaining: 0us\n"
          ],
          "name": "stdout"
        },
        {
          "output_type": "execute_result",
          "data": {
            "text/plain": [
              "<catboost.core.CatBoostRegressor at 0x7f5ea48b2860>"
            ]
          },
          "metadata": {
            "tags": []
          },
          "execution_count": 88
        }
      ]
    },
    {
      "cell_type": "markdown",
      "metadata": {
        "id": "2qWntEnSEBQl",
        "colab_type": "text"
      },
      "source": [
        "## Сравнение качества моделей"
      ]
    },
    {
      "cell_type": "code",
      "metadata": {
        "id": "ckjKH68yEnh_",
        "colab_type": "code",
        "colab": {}
      },
      "source": [
        "category_index_inverted = dict(map(reversed, category_index.items()))"
      ],
      "execution_count": 0,
      "outputs": []
    },
    {
      "cell_type": "markdown",
      "metadata": {
        "id": "v20JNzhjEGmo",
        "colab_type": "text"
      },
      "source": [
        "### Метрики Берта:"
      ]
    },
    {
      "cell_type": "code",
      "metadata": {
        "id": "DuxU5wF4D-Mc",
        "colab_type": "code",
        "colab": {
          "base_uri": "https://localhost:8080/",
          "height": 408
        },
        "outputId": "849bddbc-a34c-4da7-e0ff-5bb627021748"
      },
      "source": [
        "print(classification_report(labels, np.argmax(train_logits, axis=1), target_names=category_index_inverted.values()))"
      ],
      "execution_count": 90,
      "outputs": [
        {
          "output_type": "stream",
          "text": [
            "                    precision    recall  f1-score   support\n",
            "\n",
            "     Водоснабжение       0.94      0.88      0.91     13377\n",
            "             Декор       1.00      0.40      0.57      2716\n",
            "       Инструменты       1.00      0.40      0.58       540\n",
            "            Краски       0.97      0.81      0.88     20397\n",
            "             Кухни       0.96      0.91      0.93     29920\n",
            "Напольные покрытия       1.00      0.56      0.72      2555\n",
            "      Окна и двери       1.00      0.61      0.76      2440\n",
            "         Освещение       0.98      0.92      0.95     30560\n",
            "            Плитка       0.97      0.96      0.97     23922\n",
            "               Сад       0.95      0.98      0.96     49518\n",
            "        Сантехника       0.97      0.74      0.84     24245\n",
            "  Скобяные изделия       0.85      0.93      0.89     15280\n",
            " Столярные изделия       0.58      0.95      0.72     30329\n",
            "    Стройматериалы       0.98      0.67      0.80      8532\n",
            "          Хранение       0.97      0.77      0.86      6237\n",
            "     Электротовары       0.96      0.87      0.92      4019\n",
            "\n",
            "          accuracy                           0.89    264587\n",
            "         macro avg       0.94      0.77      0.83    264587\n",
            "      weighted avg       0.91      0.89      0.89    264587\n",
            "\n"
          ],
          "name": "stdout"
        }
      ]
    },
    {
      "cell_type": "markdown",
      "metadata": {
        "id": "nnrBWnvrEp6T",
        "colab_type": "text"
      },
      "source": [
        "### Метрики модели-ученика:"
      ]
    },
    {
      "cell_type": "code",
      "metadata": {
        "id": "hcMV1JKSMXP3",
        "colab_type": "code",
        "colab": {}
      },
      "source": [
        "tokens_pool = Pool(tokens)\n",
        "\n",
        "distilled_predicted_logits = distilled_model.predict(tokens_pool, prediction_type='RawFormulaVal') # Probability"
      ],
      "execution_count": 0,
      "outputs": []
    },
    {
      "cell_type": "code",
      "metadata": {
        "id": "xzueGBV6EW-J",
        "colab_type": "code",
        "colab": {
          "base_uri": "https://localhost:8080/",
          "height": 462
        },
        "outputId": "e449cda4-e586-43af-8524-1a93caa4c274"
      },
      "source": [
        "print(classification_report(labels, np.argmax(distilled_predicted_logits, axis=1), target_names=category_index_inverted.values()))"
      ],
      "execution_count": 94,
      "outputs": [
        {
          "output_type": "stream",
          "text": [
            "                    precision    recall  f1-score   support\n",
            "\n",
            "     Водоснабжение       0.90      0.53      0.67     13377\n",
            "             Декор       0.99      0.30      0.46      2716\n",
            "       Инструменты       0.00      0.00      0.00       540\n",
            "            Краски       0.97      0.61      0.75     20397\n",
            "             Кухни       0.85      0.77      0.81     29920\n",
            "Напольные покрытия       1.00      0.28      0.44      2555\n",
            "      Окна и двери       0.96      0.30      0.45      2440\n",
            "         Освещение       0.92      0.82      0.87     30560\n",
            "            Плитка       0.94      0.86      0.90     23922\n",
            "               Сад       0.85      0.86      0.86     49518\n",
            "        Сантехника       0.91      0.55      0.68     24245\n",
            "  Скобяные изделия       0.61      0.78      0.69     15280\n",
            " Столярные изделия       0.40      0.92      0.56     30329\n",
            "    Стройматериалы       0.80      0.64      0.71      8532\n",
            "          Хранение       0.93      0.50      0.65      6237\n",
            "     Электротовары       0.88      0.24      0.38      4019\n",
            "\n",
            "          accuracy                           0.74    264587\n",
            "         macro avg       0.81      0.56      0.62    264587\n",
            "      weighted avg       0.82      0.74      0.75    264587\n",
            "\n"
          ],
          "name": "stdout"
        },
        {
          "output_type": "stream",
          "text": [
            "/usr/local/lib/python3.6/dist-packages/sklearn/metrics/_classification.py:1272: UndefinedMetricWarning: Precision and F-score are ill-defined and being set to 0.0 in labels with no predicted samples. Use `zero_division` parameter to control this behavior.\n",
            "  _warn_prf(average, modifier, msg_start, len(result))\n"
          ],
          "name": "stderr"
        }
      ]
    },
    {
      "cell_type": "markdown",
      "metadata": {
        "id": "MZacQ9d2NSEs",
        "colab_type": "text"
      },
      "source": [
        "Как видим, качество модели-ученика немного хуже качества Берта, но скорее всего модель-ученик сможет иметь то же качество, если мы произведём тонкую настройку гиперпараметров."
      ]
    }
  ]
}