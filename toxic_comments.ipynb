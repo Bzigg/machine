{
  "nbformat": 4,
  "nbformat_minor": 0,
  "metadata": {
    "colab": {
      "name": "toxic_comments.ipynb",
      "version": "0.3.2",
      "provenance": [],
      "collapsed_sections": []
    },
    "kernelspec": {
      "name": "python3",
      "display_name": "Python 3"
    },
    "accelerator": "GPU"
  },
  "cells": [
    {
      "cell_type": "markdown",
      "metadata": {
        "id": "bPP7yMZmCUMk",
        "colab_type": "text"
      },
      "source": [
        "# Определение токсичных комментариев с помощью нейронной сети\n",
        "\n",
        "1. Для построения классификатора возьмём великолепный датасет [Russian Language Toxic Comments](https://www.kaggle.com/blackmoon/russian-language-toxic-comments).\n",
        "\n",
        "2. Для создания векторов слов применим эмбеддинг [BPE](https://nlp.h-its.org/bpemb/), используя предобученную модель.\n",
        "\n",
        "3. Для решения задачи бинарной классификации (toxic / nontoxic) применим фреймворк [Flair](https://github.com/zalandoresearch/flair). Flair - небольшой активно развивающийся фреймворк для некоторых задач NLP (классификация текстов, NER), работающий поверх Pytorch. С его помощью можно буквально за несколько строк собрать NLP-модель, используя самые передовые технологии обработки естественного языка.\n"
      ]
    },
    {
      "cell_type": "code",
      "metadata": {
        "id": "68VWQJ36bK8e",
        "colab_type": "code",
        "colab": {}
      },
      "source": [
        "# Подключаем диск Google Drive, на котором будем хранить данные\n",
        "from google.colab import drive\n",
        "drive.mount('/content/drive')"
      ],
      "execution_count": 0,
      "outputs": []
    },
    {
      "cell_type": "code",
      "metadata": {
        "id": "8Wk1hQHzRvwd",
        "colab_type": "code",
        "colab": {}
      },
      "source": [
        "!pip install flair"
      ],
      "execution_count": 0,
      "outputs": []
    },
    {
      "cell_type": "code",
      "metadata": {
        "id": "xatqzSetCM-F",
        "colab_type": "code",
        "outputId": "cd2cd408-ecc9-43f5-fb81-3e9f0c90ee1f",
        "colab": {
          "base_uri": "https://localhost:8080/",
          "height": 34
        }
      },
      "source": [
        "import pandas as pd\n",
        "import numpy as np\n",
        "import re\n",
        "\n",
        "from flair.data import Corpus\n",
        "from flair.datasets import ClassificationCorpus\n",
        "from flair.embeddings import BytePairEmbeddings\n",
        "from flair.embeddings import DocumentRNNEmbeddings\n",
        "from flair.models import TextClassifier\n",
        "from flair.trainers import ModelTrainer\n",
        "from flair.visual.training_curves import Plotter\n",
        "\n",
        "from flair.data import Sentence\n",
        "\n",
        "import matplotlib.pyplot as plt\n",
        "from matplotlib import rcParams\n",
        "\n",
        "plt.figure(figsize=(12, 6), dpi=100)\n",
        "plt.style.use('bmh')"
      ],
      "execution_count": 57,
      "outputs": [
        {
          "output_type": "display_data",
          "data": {
            "text/plain": [
              "<Figure size 1200x600 with 0 Axes>"
            ]
          },
          "metadata": {
            "tags": []
          }
        }
      ]
    },
    {
      "cell_type": "markdown",
      "metadata": {
        "id": "3z2L_pcwFgs_",
        "colab_type": "text"
      },
      "source": [
        "## 1. Анализ и подготовка датасета\n",
        "\n",
        "Скачать датасет можно по этим ссылкам:\n",
        "* Ссылка на страницу датасета: [Russian Language Toxic Comments](https://www.kaggle.com/blackmoon/russian-language-toxic-comments).\n",
        "* Ссылка на файл: [russian-language-toxic-comments.zip](https://www.kaggle.com/blackmoon/russian-language-toxic-comments/downloads/russian-language-toxic-comments.zip)\n",
        "\n",
        "Скачать датасет можно так:\n",
        "\n",
        "\n",
        "\n",
        "```\n",
        "wget -O save/path/file.zip https://www.kaggle.com/blackmoon/russian-language-toxic-comments/downloads/russian-language-toxic-comments.zip\n",
        "```\n",
        "\n",
        "Потом разархивировать:\n",
        "\n",
        "\n",
        "```\n",
        "unzip file.zip\n",
        "```\n",
        "\n"
      ]
    },
    {
      "cell_type": "code",
      "metadata": {
        "id": "bXWyZ9hLFdh2",
        "colab_type": "code",
        "colab": {}
      },
      "source": [
        "df = pd.read_csv('/content/drive/My Drive/colab_data/toxic/data/labeled.csv')"
      ],
      "execution_count": 0,
      "outputs": []
    },
    {
      "cell_type": "code",
      "metadata": {
        "id": "oOCYOe_ZFnnF",
        "colab_type": "code",
        "outputId": "f6b4f427-2b83-4312-c06e-672d3a1d6f99",
        "colab": {
          "base_uri": "https://localhost:8080/",
          "height": 359
        }
      },
      "source": [
        "df.head(10)"
      ],
      "execution_count": 5,
      "outputs": [
        {
          "output_type": "execute_result",
          "data": {
            "text/html": [
              "<div>\n",
              "<style scoped>\n",
              "    .dataframe tbody tr th:only-of-type {\n",
              "        vertical-align: middle;\n",
              "    }\n",
              "\n",
              "    .dataframe tbody tr th {\n",
              "        vertical-align: top;\n",
              "    }\n",
              "\n",
              "    .dataframe thead th {\n",
              "        text-align: right;\n",
              "    }\n",
              "</style>\n",
              "<table border=\"1\" class=\"dataframe\">\n",
              "  <thead>\n",
              "    <tr style=\"text-align: right;\">\n",
              "      <th></th>\n",
              "      <th>comment</th>\n",
              "      <th>toxic</th>\n",
              "    </tr>\n",
              "  </thead>\n",
              "  <tbody>\n",
              "    <tr>\n",
              "      <th>0</th>\n",
              "      <td>Верблюдов-то за что? Дебилы, бл...\\n</td>\n",
              "      <td>1.0</td>\n",
              "    </tr>\n",
              "    <tr>\n",
              "      <th>1</th>\n",
              "      <td>Хохлы, это отдушина затюканого россиянина, мол...</td>\n",
              "      <td>1.0</td>\n",
              "    </tr>\n",
              "    <tr>\n",
              "      <th>2</th>\n",
              "      <td>Собаке - собачья смерть\\n</td>\n",
              "      <td>1.0</td>\n",
              "    </tr>\n",
              "    <tr>\n",
              "      <th>3</th>\n",
              "      <td>Страницу обнови, дебил. Это тоже не оскорблени...</td>\n",
              "      <td>1.0</td>\n",
              "    </tr>\n",
              "    <tr>\n",
              "      <th>4</th>\n",
              "      <td>тебя не убедил 6-страничный пдф в том, что Скр...</td>\n",
              "      <td>1.0</td>\n",
              "    </tr>\n",
              "    <tr>\n",
              "      <th>5</th>\n",
              "      <td>Для каких стан является эталоном современная с...</td>\n",
              "      <td>1.0</td>\n",
              "    </tr>\n",
              "    <tr>\n",
              "      <th>6</th>\n",
              "      <td>В шапке были ссылки на инфу по текущему фильму...</td>\n",
              "      <td>0.0</td>\n",
              "    </tr>\n",
              "    <tr>\n",
              "      <th>7</th>\n",
              "      <td>УПАД Т! ТАМ НЕЛЬЗЯ СТРОИТЬ! ТЕХНОЛОГИЙ НЕТ! РА...</td>\n",
              "      <td>1.0</td>\n",
              "    </tr>\n",
              "    <tr>\n",
              "      <th>8</th>\n",
              "      <td>Ебать тебя разносит, шизик.\\n</td>\n",
              "      <td>1.0</td>\n",
              "    </tr>\n",
              "    <tr>\n",
              "      <th>9</th>\n",
              "      <td>Обосрался, сиди обтекай\\n</td>\n",
              "      <td>1.0</td>\n",
              "    </tr>\n",
              "  </tbody>\n",
              "</table>\n",
              "</div>"
            ],
            "text/plain": [
              "                                             comment  toxic\n",
              "0               Верблюдов-то за что? Дебилы, бл...\\n    1.0\n",
              "1  Хохлы, это отдушина затюканого россиянина, мол...    1.0\n",
              "2                          Собаке - собачья смерть\\n    1.0\n",
              "3  Страницу обнови, дебил. Это тоже не оскорблени...    1.0\n",
              "4  тебя не убедил 6-страничный пдф в том, что Скр...    1.0\n",
              "5  Для каких стан является эталоном современная с...    1.0\n",
              "6  В шапке были ссылки на инфу по текущему фильму...    0.0\n",
              "7  УПАД Т! ТАМ НЕЛЬЗЯ СТРОИТЬ! ТЕХНОЛОГИЙ НЕТ! РА...    1.0\n",
              "8                      Ебать тебя разносит, шизик.\\n    1.0\n",
              "9                          Обосрался, сиди обтекай\\n    1.0"
            ]
          },
          "metadata": {
            "tags": []
          },
          "execution_count": 5
        }
      ]
    },
    {
      "cell_type": "code",
      "metadata": {
        "id": "WBglyGXLGGZG",
        "colab_type": "code",
        "colab": {}
      },
      "source": [
        "# toxic у нас категориальный признак, а не количественный,\n",
        "# поэтому преобразуем его\n",
        "df.toxic = df.toxic.apply(int)"
      ],
      "execution_count": 0,
      "outputs": []
    },
    {
      "cell_type": "code",
      "metadata": {
        "id": "9-GVCPWyFptz",
        "colab_type": "code",
        "outputId": "13e4a591-0caf-49cb-d1a9-16769a52d3d4",
        "colab": {
          "base_uri": "https://localhost:8080/",
          "height": 524
        }
      },
      "source": [
        "# Посмотрим на распределение нашего датасета\n",
        "df.toxic.value_counts().plot.bar()"
      ],
      "execution_count": 13,
      "outputs": [
        {
          "output_type": "execute_result",
          "data": {
            "text/plain": [
              "<matplotlib.axes._subplots.AxesSubplot at 0x7fe7f56cbd30>"
            ]
          },
          "metadata": {
            "tags": []
          },
          "execution_count": 13
        },
        {
          "output_type": "display_data",
          "data": {
            "image/png": "[encoded data removed]",
            "text/plain": [
              "<Figure size 1200x600 with 1 Axes>"
            ]
          },
          "metadata": {
            "tags": []
          }
        }
      ]
    },
    {
      "cell_type": "code",
      "metadata": {
        "id": "bDInNO0rFyUo",
        "colab_type": "code",
        "outputId": "eaf8de2e-4068-4e42-e7fe-088a76f358e7",
        "colab": {
          "base_uri": "https://localhost:8080/",
          "height": 68
        }
      },
      "source": [
        "# Как видно из графика, наш датасет несбалансирован,\n",
        "# что может отрицательно повлиять на качество\n",
        "# обучения модели\n",
        "df.toxic.value_counts()"
      ],
      "execution_count": 15,
      "outputs": [
        {
          "output_type": "execute_result",
          "data": {
            "text/plain": [
              "0    9586\n",
              "1    4826\n",
              "Name: toxic, dtype: int64"
            ]
          },
          "metadata": {
            "tags": []
          },
          "execution_count": 15
        }
      ]
    },
    {
      "cell_type": "code",
      "metadata": {
        "id": "AnUw7zidF7W6",
        "colab_type": "code",
        "colab": {}
      },
      "source": [
        "# Удалим часть данных с меткой 0, т.е. нетоксичных комментариев.\n",
        "# Это хоть и уменьшит выборку, но сделает её более сбалансированной.\n",
        "df = pd.concat([df[df.toxic == 0].sample(4826), df[df.toxic == 1]], ignore_index = True)"
      ],
      "execution_count": 0,
      "outputs": []
    },
    {
      "cell_type": "code",
      "metadata": {
        "id": "gyWC9he3HUxh",
        "colab_type": "code",
        "outputId": "5a9f547b-3e69-4aa5-d256-454a98c5f7d9",
        "colab": {
          "base_uri": "https://localhost:8080/",
          "height": 521
        }
      },
      "source": [
        "df.toxic.value_counts().plot.bar()"
      ],
      "execution_count": 26,
      "outputs": [
        {
          "output_type": "execute_result",
          "data": {
            "text/plain": [
              "<matplotlib.axes._subplots.AxesSubplot at 0x7fe7f55e6c18>"
            ]
          },
          "metadata": {
            "tags": []
          },
          "execution_count": 26
        },
        {
          "output_type": "display_data",
          "data": {
            "image/png": "[encoded data removed]",
            "text/plain": [
              "<Figure size 1200x600 with 1 Axes>"
            ]
          },
          "metadata": {
            "tags": []
          }
        }
      ]
    },
    {
      "cell_type": "markdown",
      "metadata": {
        "id": "yFlYqVN6IYo_",
        "colab_type": "text"
      },
      "source": [
        "Подготовим текст:\n",
        "1. Удалим переносы строк.\n",
        "2. Оставим только буквенный текст (удалим знаки препинания, цифры и иные символы).\n",
        "3. Приведём текст к нижнему регистру."
      ]
    },
    {
      "cell_type": "code",
      "metadata": {
        "id": "-4zTqocUHYSH",
        "colab_type": "code",
        "colab": {}
      },
      "source": [
        "df.comment = df.comment.str.replace('\\n', ' ', regex=False)\n",
        "df.comment = df.comment.str.replace('ё', 'е', regex=False)\n",
        "df.comment = df.comment.str.replace('[^a-zA-Zа-яА-Я]+', ' ')\n",
        "df.comment = df.comment.str.lower()"
      ],
      "execution_count": 0,
      "outputs": []
    },
    {
      "cell_type": "markdown",
      "metadata": {
        "id": "bTEzekATfQWV",
        "colab_type": "text"
      },
      "source": [
        "Чтобы в ходе подбора оптимальной модели не производить манипуляции с датасетом, сохраним наши подготовленные данные.\n",
        "\n",
        "Сохраним предподготовленный датасет в файлы формата [fasttext](https://fasttext.cc/). Это текстовый файл, в котором сохранены предобработанные тексты с меткой класса - для различных классификаций текстов.\n",
        "\n",
        "Первым параметром идёт метка, начинающаяся со служебного слова `__label__`.\n",
        "\n",
        "Например, так: `__label__mark` или так: `__label__0`.\n",
        "\n",
        "Затем через пробел идёт сам предобработанный текст. Каждый элемент датасета начинается с новой строки.\n",
        "\n",
        "Для этого преобразуем признак `toxic`. И поменяем колонки местами."
      ]
    },
    {
      "cell_type": "code",
      "metadata": {
        "id": "IVQQSS5EfFAR",
        "colab_type": "code",
        "colab": {
          "base_uri": "https://localhost:8080/",
          "height": 204
        },
        "outputId": "712cb895-2ca9-4343-c228-25b0ddf02d6d"
      },
      "source": [
        "df.toxic = '__label__' + df.toxic.apply(str)\n",
        "df = df.reindex(columns=['toxic', 'comment'])\n",
        "df.sample(5)"
      ],
      "execution_count": 28,
      "outputs": [
        {
          "output_type": "execute_result",
          "data": {
            "text/html": [
              "<div>\n",
              "<style scoped>\n",
              "    .dataframe tbody tr th:only-of-type {\n",
              "        vertical-align: middle;\n",
              "    }\n",
              "\n",
              "    .dataframe tbody tr th {\n",
              "        vertical-align: top;\n",
              "    }\n",
              "\n",
              "    .dataframe thead th {\n",
              "        text-align: right;\n",
              "    }\n",
              "</style>\n",
              "<table border=\"1\" class=\"dataframe\">\n",
              "  <thead>\n",
              "    <tr style=\"text-align: right;\">\n",
              "      <th></th>\n",
              "      <th>toxic</th>\n",
              "      <th>comment</th>\n",
              "    </tr>\n",
              "  </thead>\n",
              "  <tbody>\n",
              "    <tr>\n",
              "      <th>4271</th>\n",
              "      <td>__label__0</td>\n",
              "      <td>у него куча долгов по кредитам он конечно може...</td>\n",
              "    </tr>\n",
              "    <tr>\n",
              "      <th>273</th>\n",
              "      <td>__label__0</td>\n",
              "      <td>смешно я просто написал что мнение некого внеш...</td>\n",
              "    </tr>\n",
              "    <tr>\n",
              "      <th>3543</th>\n",
              "      <td>__label__0</td>\n",
              "      <td>у меня до сих пор они есть только предыдущая м...</td>\n",
              "    </tr>\n",
              "    <tr>\n",
              "      <th>8468</th>\n",
              "      <td>__label__1</td>\n",
              "      <td>хохлы кругом хохлы gifx</td>\n",
              "    </tr>\n",
              "    <tr>\n",
              "      <th>5583</th>\n",
              "      <td>__label__1</td>\n",
              "      <td>самое ахуенное время это начало донбаса по вид...</td>\n",
              "    </tr>\n",
              "  </tbody>\n",
              "</table>\n",
              "</div>"
            ],
            "text/plain": [
              "           toxic                                            comment\n",
              "4271  __label__0  у него куча долгов по кредитам он конечно може...\n",
              "273   __label__0  смешно я просто написал что мнение некого внеш...\n",
              "3543  __label__0  у меня до сих пор они есть только предыдущая м...\n",
              "8468  __label__1                           хохлы кругом хохлы gifx \n",
              "5583  __label__1  самое ахуенное время это начало донбаса по вид..."
            ]
          },
          "metadata": {
            "tags": []
          },
          "execution_count": 28
        }
      ]
    },
    {
      "cell_type": "markdown",
      "metadata": {
        "id": "P4_9vdbNhM88",
        "colab_type": "text"
      },
      "source": [
        "Разбиваем предобработанный датасет на три выборки:\n",
        "* обучающую\n",
        "* валидационную\n",
        "* тестовую"
      ]
    },
    {
      "cell_type": "code",
      "metadata": {
        "id": "BJgVnDLEgQln",
        "colab_type": "code",
        "colab": {}
      },
      "source": [
        "# https://stackoverflow.com/a/38251063\n",
        "def train_validate_test_split(df, train_percent=.6, validate_percent=.2, seed=None):\n",
        "    np.random.seed(seed)\n",
        "    perm = np.random.permutation(df.index)\n",
        "    m = len(df.index)\n",
        "    train_end = int(train_percent * m)\n",
        "    validate_end = int(validate_percent * m) + train_end\n",
        "    train = df.iloc[perm[:train_end]]\n",
        "    validate = df.iloc[perm[train_end:validate_end]]\n",
        "    test = df.iloc[perm[validate_end:]]\n",
        "    return train, validate, test"
      ],
      "execution_count": 0,
      "outputs": []
    },
    {
      "cell_type": "code",
      "metadata": {
        "id": "jwuOQ1UghR29",
        "colab_type": "code",
        "colab": {
          "base_uri": "https://localhost:8080/",
          "height": 34
        },
        "outputId": "7a313a9f-81da-4612-a0db-b307904f2bd2"
      },
      "source": [
        "train, validate, test = train_validate_test_split(df, train_percent=.7, validate_percent=.2, seed=700)\n",
        "train.shape[0], validate.shape[0], test.shape[0]"
      ],
      "execution_count": 32,
      "outputs": [
        {
          "output_type": "execute_result",
          "data": {
            "text/plain": [
              "(6756, 1930, 966)"
            ]
          },
          "metadata": {
            "tags": []
          },
          "execution_count": 32
        }
      ]
    },
    {
      "cell_type": "code",
      "metadata": {
        "id": "AyzAwfhchV0n",
        "colab_type": "code",
        "colab": {}
      },
      "source": [
        "train.to_csv('/content/drive/My Drive/colab_data/toxic/data/toxic.train.fasttext',\n",
        "             sep=' ',\n",
        "             index=False,\n",
        "             header=None)\n",
        "validate.to_csv('/content/drive/My Drive/colab_data/toxic/data/toxic.validate.fasttext',\n",
        "                sep=' ',\n",
        "                index=False,\n",
        "                header=None)\n",
        "test.to_csv('/content/drive/My Drive/colab_data/toxic/data/toxic.test.fasttext',\n",
        "            sep=' ',\n",
        "            index=False,\n",
        "            header=None)"
      ],
      "execution_count": 0,
      "outputs": []
    },
    {
      "cell_type": "markdown",
      "metadata": {
        "id": "LKEoM5DqhsiP",
        "colab_type": "text"
      },
      "source": [
        "## 3. Создание и тренировка модели\n",
        "\n",
        "Мы не будем создавать собственный словарь и собственные вектора слов, а будем использовать уже готовые модели.\n",
        "\n",
        "Для [эмбеддинга](https://www.nkj.ru/open/36052/) мы возьмём модель **BPE** - [Byte Pair Embeddings](https://nlp.h-its.org/bpemb/).\n",
        "\n",
        "Во-первых, если мы будем использовать свой словарь - словарь, основанный на словах из нашего датасета, то всегда есть возможность, что в процессе использования модели ей встретится незнакомое слово.\n",
        "\n",
        "Во-вторых, уже существующие полнословные словари слишком большие.\n",
        "\n",
        "В-третьих, с помощью модели BPE мы будем учитывать возможные опечатки в тексте и жаргонную лексику, а это очень распространённое явление в пользовательских комментариях в соцсетях. Такая модель, как, например, FastText тоже умеет учитывать не встречающиеся в её словаре слова, но она слишком большая - всё это (в частности для русского языка) из-за того, что слова в словаре были некачественно предобработаны."
      ]
    },
    {
      "cell_type": "code",
      "metadata": {
        "id": "l8OI_zXih5lg",
        "colab_type": "code",
        "colab": {
          "base_uri": "https://localhost:8080/",
          "height": 85
        },
        "outputId": "c4ce9456-7386-49f2-e98a-ed655172dddb"
      },
      "source": [
        "# Загружаем подготовленный датасет\n",
        "# Для более быстрой обработки информации можно весь датасет поместить в \n",
        "# оперативную память. Для этого выставляем флаг: in_memory=True\n",
        "data_folder = '/content/drive/My Drive/colab_data/toxic/data/'\n",
        "\n",
        "corpus: Corpus = ClassificationCorpus(\n",
        "    data_folder, # папка, в воторой расположены файлы датасета\n",
        "    train_file='toxic.train.fasttext', # данные для обучения модели\n",
        "    dev_file='toxic.validate.fasttext', # данные для валидации модели\n",
        "    test_file='toxic.test.fasttext', # тестовые данные, не участвующие в ходе обучения\n",
        "    in_memory=True)"
      ],
      "execution_count": 36,
      "outputs": [
        {
          "output_type": "stream",
          "text": [
            "2019-08-26 06:08:44,658 Reading data from /content/drive/My Drive/colab_data/toxic/data\n",
            "2019-08-26 06:08:44,661 Train: /content/drive/My Drive/colab_data/toxic/data/toxic.train.fasttext\n",
            "2019-08-26 06:08:44,663 Dev: /content/drive/My Drive/colab_data/toxic/data/toxic.validate.fasttext\n",
            "2019-08-26 06:08:44,664 Test: /content/drive/My Drive/colab_data/toxic/data/toxic.test.fasttext\n"
          ],
          "name": "stdout"
        }
      ]
    },
    {
      "cell_type": "code",
      "metadata": {
        "id": "oxwZ5KCWicnJ",
        "colab_type": "code",
        "colab": {
          "base_uri": "https://localhost:8080/",
          "height": 34
        },
        "outputId": "5c2d2fa2-b359-4519-d9ad-688dd5f54282"
      },
      "source": [
        "# Проверим загруженные данные\n",
        "print(len(corpus.train), len(corpus.dev), len(corpus.test), sep=', ')"
      ],
      "execution_count": 37,
      "outputs": [
        {
          "output_type": "stream",
          "text": [
            "6756, 1930, 966\n"
          ],
          "name": "stdout"
        }
      ]
    },
    {
      "cell_type": "code",
      "metadata": {
        "id": "2IMo60EmiuNE",
        "colab_type": "code",
        "colab": {
          "base_uri": "https://localhost:8080/",
          "height": 34
        },
        "outputId": "3a693172-abef-48c6-a039-48649ee9b2db"
      },
      "source": [
        "# Наши метки\n",
        "# 0 - нетоксичный комментарий, 1 - токсичный\n",
        "label_dict = corpus.make_label_dictionary()"
      ],
      "execution_count": 38,
      "outputs": [
        {
          "output_type": "stream",
          "text": [
            "2019-08-26 06:09:48,231 {'0', '1'}\n"
          ],
          "name": "stdout"
        }
      ]
    },
    {
      "cell_type": "markdown",
      "metadata": {
        "id": "sme2Avbvi90q",
        "colab_type": "text"
      },
      "source": [
        "Как говорилось выше, мы используем BPE в качестве эмбеддинга. Параметры же нашей нейронки таковы:\n",
        "\n",
        "Мы используем 2 слоя двунаправленной сети [GRU](https://ru.wikipedia.org/wiki/Управляемый_рекуррентный_блок) со скрытым слоем, равным 124. Сеть GRU - это вариации рекуррентной нейронной сети LSTM. Реккурентные нейронные сети зарекомендовали себя, как хороший обработчик последовательностей. Тексты - это как раз последовательности.\n",
        "\n",
        "Двунаправленность используется в связи с тем, что в предложении русского языка нет чёткой последовательности слов (*кот ушёл* и *ушёл кот*), поэтому наша сеть будет проходить предложение как с начала, так и с конца, чтобы лучше понять его."
      ]
    },
    {
      "cell_type": "code",
      "metadata": {
        "id": "nVloIMNTi8dG",
        "colab_type": "code",
        "colab": {
          "base_uri": "https://localhost:8080/",
          "height": 71
        },
        "outputId": "792d19fa-20e6-4678-db19-6973c1ebf5c3"
      },
      "source": [
        "# Инициализируем эмбеддинг на основе BPE\n",
        "bp_embedding = BytePairEmbeddings('ru')\n",
        "\n",
        "# Далее задаём параметры нейронной сети.\n",
        "document_emb = DocumentRNNEmbeddings(\n",
        "    [bp_embedding],\n",
        "    hidden_size=128,\n",
        "    reproject_words=True, # трансформируем входящий вектор\n",
        "    reproject_words_dimension=256,\n",
        "    rnn_layers=2,\n",
        "    bidirectional=True,\n",
        "    dropout=0.2,\n",
        "    word_dropout=0.2,\n",
        "    rnn_type='GRU')"
      ],
      "execution_count": 48,
      "outputs": [
        {
          "output_type": "stream",
          "text": [
            "/usr/local/lib/python3.6/dist-packages/smart_open/smart_open_lib.py:398: UserWarning: This function is deprecated, use smart_open.open instead. See the migration notes for details: https://github.com/RaRe-Technologies/smart_open/blob/master/README.rst#migrating-to-the-new-open-function\n",
            "  'See the migration notes for details: %s' % _MIGRATION_NOTES_URL\n"
          ],
          "name": "stderr"
        }
      ]
    },
    {
      "cell_type": "code",
      "metadata": {
        "id": "_XExDz_Ai3dJ",
        "colab_type": "code",
        "colab": {}
      },
      "source": [
        "# Инициализируем текстовый классификатор\n",
        "classifier = TextClassifier(document_emb, label_dictionary=label_dict)\n",
        "# По умолчанию в качестве оптимизатора используется SGD.\n",
        "# Мы будем использовать его, поэтому не указываем явно тип оптимизатора:\n",
        "trainer = ModelTrainer(classifier, corpus)\n",
        "\n",
        "# Если же нужно использовать какой-то иной алгоритм, его нужно указать:\n",
        "#\n",
        "# from torch.optim.adam import Adam\n",
        "# trainer = ModelTrainer(classifier, corpus, optimizer=Adam)\n",
        "\n",
        "# По умолчанию данный фреймворк использует GPU. Если GPU нет, фреймворк сам \n",
        "# выбирает CPU.\n",
        "# Если для обучения используется CPU, можно указать количество процессоров\n",
        "# trainer.num_workers = 15\n",
        "#\n",
        "# Что используется на данный момент, можно узнать, выполнив слудующий код:\n",
        "# import flair\n",
        "# print(flair.device)"
      ],
      "execution_count": 0,
      "outputs": []
    },
    {
      "cell_type": "code",
      "metadata": {
        "id": "o6mv1lcylFmr",
        "colab_type": "code",
        "colab": {
          "base_uri": "https://localhost:8080/",
          "height": 1000
        },
        "outputId": "317c5246-05ac-4113-e205-abd31cb82fc8"
      },
      "source": [
        "# Начинаем тренировку\n",
        "# Можно указывать сколько угодно много эпох, а потом, когда модель будет \n",
        "# достаточно обучена, остановить выполнение кода. Фреймворк поймёт, что\n",
        "# надо прекратить обучение,- остановится, пересчитает все веса. Но даже если\n",
        "# не останавливать принудительно модель, то фреймворк увидит, когда уже нет\n",
        "# возможности делать модель лучше, и тоже остановит обучение.\n",
        "# и сохранит наилучший результат в файл best_model.pt\n",
        "#\n",
        "# не обязательно делать слишком маленький learning_rate.\n",
        "# При необходимости фреймворк сам его уменьшит.\n",
        "trainer.train(\n",
        "    '/content/drive/My Drive/colab_data/toxic/model',\n",
        "    learning_rate=0.1,  \n",
        "    mini_batch_size=64,\n",
        "    anneal_factor=0.5,\n",
        "    patience=5,\n",
        "    max_epochs=5,\n",
        "    monitor_train=True)"
      ],
      "execution_count": 50,
      "outputs": [
        {
          "output_type": "stream",
          "text": [
            "2019-08-26 08:41:50,573 ----------------------------------------------------------------------------------------------------\n",
            "2019-08-26 08:41:50,575 Evaluation method: MICRO_F1_SCORE\n",
            "2019-08-26 08:41:50,847 ----------------------------------------------------------------------------------------------------\n",
            "2019-08-26 08:41:51,484 epoch 1 - iter 0/106 - loss 0.42727622\n",
            "2019-08-26 08:41:54,646 epoch 1 - iter 10/106 - loss 0.40622200\n",
            "2019-08-26 08:41:56,907 epoch 1 - iter 20/106 - loss 0.39005942\n",
            "2019-08-26 08:42:00,063 epoch 1 - iter 30/106 - loss 0.39126687\n",
            "2019-08-26 08:42:03,308 epoch 1 - iter 40/106 - loss 0.40461460\n",
            "2019-08-26 08:42:06,018 epoch 1 - iter 50/106 - loss 0.39512310\n",
            "2019-08-26 08:42:08,960 epoch 1 - iter 60/106 - loss 0.39174748\n",
            "2019-08-26 08:42:11,404 epoch 1 - iter 70/106 - loss 0.39293055\n",
            "2019-08-26 08:42:13,760 epoch 1 - iter 80/106 - loss 0.38896372\n",
            "2019-08-26 08:42:16,448 epoch 1 - iter 90/106 - loss 0.39090168\n",
            "2019-08-26 08:42:19,135 epoch 1 - iter 100/106 - loss 0.39792194\n",
            "2019-08-26 08:42:20,750 ----------------------------------------------------------------------------------------------------\n",
            "2019-08-26 08:42:20,751 EPOCH 1 done: loss 0.3999 - lr 0.1000 - bad epochs 0\n",
            "2019-08-26 08:42:48,443 DEV : loss 0.44082143902778625 - score 0.8031\n",
            "2019-08-26 08:42:51,216 TEST : loss 0.40039288997650146 - score 0.8199\n",
            "2019-08-26 08:42:51,922 ----------------------------------------------------------------------------------------------------\n",
            "2019-08-26 08:42:52,551 epoch 2 - iter 0/106 - loss 0.35178024\n",
            "2019-08-26 08:42:55,027 epoch 2 - iter 10/106 - loss 0.42718804\n",
            "2019-08-26 08:42:58,440 epoch 2 - iter 20/106 - loss 0.42054013\n",
            "2019-08-26 08:43:01,172 epoch 2 - iter 30/106 - loss 0.40569123\n",
            "2019-08-26 08:43:04,148 epoch 2 - iter 40/106 - loss 0.40440161\n",
            "2019-08-26 08:43:06,859 epoch 2 - iter 50/106 - loss 0.40426027\n",
            "2019-08-26 08:43:09,256 epoch 2 - iter 60/106 - loss 0.40112021\n",
            "2019-08-26 08:43:12,183 epoch 2 - iter 70/106 - loss 0.40198510\n",
            "2019-08-26 08:43:14,078 epoch 2 - iter 80/106 - loss 0.40341290\n",
            "2019-08-26 08:43:17,555 epoch 2 - iter 90/106 - loss 0.39525835\n",
            "2019-08-26 08:43:19,948 epoch 2 - iter 100/106 - loss 0.39507883\n",
            "2019-08-26 08:43:21,458 ----------------------------------------------------------------------------------------------------\n",
            "2019-08-26 08:43:21,460 EPOCH 2 done: loss 0.3971 - lr 0.1000 - bad epochs 0\n",
            "2019-08-26 08:43:48,648 DEV : loss 0.36873236298561096 - score 0.8451\n",
            "2019-08-26 08:43:52,041 TEST : loss 0.35504287481307983 - score 0.853\n",
            "2019-08-26 08:43:52,741 ----------------------------------------------------------------------------------------------------\n",
            "2019-08-26 08:43:53,270 epoch 3 - iter 0/106 - loss 0.37592658\n",
            "2019-08-26 08:43:56,337 epoch 3 - iter 10/106 - loss 0.37144138\n",
            "2019-08-26 08:43:58,924 epoch 3 - iter 20/106 - loss 0.40108460\n",
            "2019-08-26 08:44:01,300 epoch 3 - iter 30/106 - loss 0.39786896\n",
            "2019-08-26 08:44:04,851 epoch 3 - iter 40/106 - loss 0.39669362\n",
            "2019-08-26 08:44:07,829 epoch 3 - iter 50/106 - loss 0.39720871\n",
            "2019-08-26 08:44:10,495 epoch 3 - iter 60/106 - loss 0.39425374\n",
            "2019-08-26 08:44:13,613 epoch 3 - iter 70/106 - loss 0.39598788\n",
            "2019-08-26 08:44:16,409 epoch 3 - iter 80/106 - loss 0.39280156\n",
            "2019-08-26 08:44:18,885 epoch 3 - iter 90/106 - loss 0.39618338\n",
            "2019-08-26 08:44:21,363 epoch 3 - iter 100/106 - loss 0.39414462\n",
            "2019-08-26 08:44:22,786 ----------------------------------------------------------------------------------------------------\n",
            "2019-08-26 08:44:22,792 EPOCH 3 done: loss 0.3961 - lr 0.1000 - bad epochs 0\n",
            "2019-08-26 08:44:49,964 DEV : loss 0.36321088671684265 - score 0.8456\n",
            "2019-08-26 08:44:52,652 TEST : loss 0.34545981884002686 - score 0.853\n",
            "2019-08-26 08:44:53,341 ----------------------------------------------------------------------------------------------------\n",
            "2019-08-26 08:44:54,050 epoch 4 - iter 0/106 - loss 0.27896959\n",
            "2019-08-26 08:44:57,340 epoch 4 - iter 10/106 - loss 0.38951620\n",
            "2019-08-26 08:45:00,180 epoch 4 - iter 20/106 - loss 0.38555636\n",
            "2019-08-26 08:45:02,947 epoch 4 - iter 30/106 - loss 0.37806896\n",
            "2019-08-26 08:45:05,453 epoch 4 - iter 40/106 - loss 0.37764845\n",
            "2019-08-26 08:45:08,621 epoch 4 - iter 50/106 - loss 0.37918399\n",
            "2019-08-26 08:45:10,655 epoch 4 - iter 60/106 - loss 0.38075964\n",
            "2019-08-26 08:45:13,139 epoch 4 - iter 70/106 - loss 0.37961514\n",
            "2019-08-26 08:45:15,318 epoch 4 - iter 80/106 - loss 0.38306719\n",
            "2019-08-26 08:45:18,518 epoch 4 - iter 90/106 - loss 0.38215950\n",
            "2019-08-26 08:45:21,405 epoch 4 - iter 100/106 - loss 0.38265754\n",
            "2019-08-26 08:45:23,043 ----------------------------------------------------------------------------------------------------\n",
            "2019-08-26 08:45:23,045 EPOCH 4 done: loss 0.3806 - lr 0.1000 - bad epochs 0\n",
            "2019-08-26 08:45:49,860 DEV : loss 0.3744617998600006 - score 0.8482\n",
            "2019-08-26 08:45:53,233 TEST : loss 0.3508879840373993 - score 0.8571\n",
            "2019-08-26 08:45:53,919 ----------------------------------------------------------------------------------------------------\n",
            "2019-08-26 08:45:54,649 epoch 5 - iter 0/106 - loss 0.33777994\n",
            "2019-08-26 08:45:57,891 epoch 5 - iter 10/106 - loss 0.36047014\n",
            "2019-08-26 08:46:00,080 epoch 5 - iter 20/106 - loss 0.38043869\n",
            "2019-08-26 08:46:02,950 epoch 5 - iter 30/106 - loss 0.38592480\n",
            "2019-08-26 08:46:05,657 epoch 5 - iter 40/106 - loss 0.38053068\n",
            "2019-08-26 08:46:08,193 epoch 5 - iter 50/106 - loss 0.37678598\n",
            "2019-08-26 08:46:10,209 epoch 5 - iter 60/106 - loss 0.37799863\n",
            "2019-08-26 08:46:13,267 epoch 5 - iter 70/106 - loss 0.37750433\n",
            "2019-08-26 08:46:15,908 epoch 5 - iter 80/106 - loss 0.38057281\n",
            "2019-08-26 08:46:18,128 epoch 5 - iter 90/106 - loss 0.37566067\n",
            "2019-08-26 08:46:21,720 epoch 5 - iter 100/106 - loss 0.37671358\n",
            "2019-08-26 08:46:23,174 ----------------------------------------------------------------------------------------------------\n",
            "2019-08-26 08:46:23,176 EPOCH 5 done: loss 0.3774 - lr 0.1000 - bad epochs 0\n",
            "2019-08-26 08:46:49,802 DEV : loss 0.3598177433013916 - score 0.8554\n",
            "2019-08-26 08:46:52,492 TEST : loss 0.34920811653137207 - score 0.8602\n",
            "2019-08-26 08:46:53,843 ----------------------------------------------------------------------------------------------------\n",
            "2019-08-26 08:46:53,844 Testing using best model ...\n",
            "2019-08-26 08:46:53,850 loading file /content/drive/My Drive/colab_data/toxic/model/best-model.pt\n",
            "2019-08-26 08:46:57,448 0.8602\t0.8602\t0.8602\n",
            "2019-08-26 08:46:57,453 \n",
            "MICRO_AVG: acc 0.7548 - f1-score 0.8602\n",
            "MACRO_AVG: acc 0.7544 - f1-score 0.86\n",
            "0          tp: 395 - fp: 52 - fn: 83 - tn: 436 - precision: 0.8837 - recall: 0.8264 - accuracy: 0.7453 - f1-score: 0.8541\n",
            "1          tp: 436 - fp: 83 - fn: 52 - tn: 395 - precision: 0.8401 - recall: 0.8934 - accuracy: 0.7636 - f1-score: 0.8659\n",
            "2019-08-26 08:46:57,454 ----------------------------------------------------------------------------------------------------\n"
          ],
          "name": "stdout"
        },
        {
          "output_type": "execute_result",
          "data": {
            "text/plain": [
              "{'dev_loss_history': [tensor(0.4408, device='cuda:0'),\n",
              "  tensor(0.3687, device='cuda:0'),\n",
              "  tensor(0.3632, device='cuda:0'),\n",
              "  tensor(0.3745, device='cuda:0'),\n",
              "  tensor(0.3598, device='cuda:0')],\n",
              " 'dev_score_history': [0.8031, 0.8451, 0.8456, 0.8482, 0.8554],\n",
              " 'test_score': 0.8602,\n",
              " 'train_loss_history': [tensor(0.3965, device='cuda:0'),\n",
              "  tensor(0.3334, device='cuda:0'),\n",
              "  tensor(0.3241, device='cuda:0'),\n",
              "  tensor(0.3256, device='cuda:0'),\n",
              "  tensor(0.3156, device='cuda:0')]}"
            ]
          },
          "metadata": {
            "tags": []
          },
          "execution_count": 50
        }
      ]
    },
    {
      "cell_type": "markdown",
      "metadata": {
        "id": "ppofjgWh_0mB",
        "colab_type": "text"
      },
      "source": [
        "## 4. Использование модели.\n",
        "\n",
        "Я остановил тренировку после 5-й эпохи. Результаты лучшей модели таковы:\n",
        "\n",
        "* Accuracy: 75%\n",
        "* F1: 86%\n",
        "\n",
        "Естественно, можно попытаться улучшить качество модели, изменяя параметры и гиперпараметры, а также увеличив количество эпох тренировки.\n",
        "\n",
        "На заключительном этапе посмотрим: \n",
        "* как обучалась модель;\n",
        "* как загрузить лучшую модель;\n",
        "* как использовать сохранённую модель."
      ]
    },
    {
      "cell_type": "code",
      "metadata": {
        "id": "JZzueZmKlcuo",
        "colab_type": "code",
        "colab": {}
      },
      "source": [
        "# Построим график обучения модели\n",
        "plotter = Plotter()\n",
        "plotter.plot_training_curves('/content/drive/My Drive/colab_data/toxic/model/loss.tsv')\n",
        "# Сохранённый график обучения модели ищите в этой же папке.\n",
        "# Название файла: training.png"
      ],
      "execution_count": 0,
      "outputs": []
    },
    {
      "cell_type": "code",
      "metadata": {
        "id": "SvB0D2SrBdcU",
        "colab_type": "code",
        "colab": {
          "base_uri": "https://localhost:8080/",
          "height": 34
        },
        "outputId": "6b608b91-c76b-4d60-e584-c00ab62c11e7"
      },
      "source": [
        "# Загружаем модель для использования\n",
        "model = TextClassifier.load('/content/drive/My Drive/colab_data/toxic/model/best-model.pt')"
      ],
      "execution_count": 52,
      "outputs": [
        {
          "output_type": "stream",
          "text": [
            "2019-08-26 08:54:28,926 loading file /content/drive/My Drive/colab_data/toxic/model/best-model.pt\n"
          ],
          "name": "stdout"
        }
      ]
    },
    {
      "cell_type": "code",
      "metadata": {
        "id": "gsqYvWc8IjpR",
        "colab_type": "code",
        "colab": {
          "base_uri": "https://localhost:8080/",
          "height": 34
        },
        "outputId": "b3975051-2922-4ed9-c617-7c6c15036823"
      },
      "source": [
        "# Сколько параметров у нашей модели\n",
        "def count_parameters(model):\n",
        "    return sum(p.numel() for p in model.parameters() if p.requires_grad)\n",
        "\n",
        "print(f'В ходе тренировки модели было использовано {count_parameters(model):,} параметров.')"
      ],
      "execution_count": 53,
      "outputs": [
        {
          "output_type": "stream",
          "text": [
            "В ходе тренировки модели было использовано 224,514 параметров.\n"
          ],
          "name": "stdout"
        }
      ]
    },
    {
      "cell_type": "markdown",
      "metadata": {
        "id": "AIVR7ic8ItwY",
        "colab_type": "text"
      },
      "source": [
        "Для того, чтобы получить результат не для целого датасета, а для одного предложения, в фреймворке Flair имеется `Sentence`."
      ]
    },
    {
      "cell_type": "code",
      "metadata": {
        "id": "LCmEYxEOIoPG",
        "colab_type": "code",
        "colab": {}
      },
      "source": [
        "# Предобработка единичного комментария\n",
        "# Те же самые операции, что мы производили над датасетом,\n",
        "# только теперь для единичного комментария.\n",
        "def preprocess_text(text):\n",
        "  text = text.replace('\\n', ' ')\n",
        "  text = text.replace('ё', 'е')\n",
        "  text = re.sub('[^a-zA-Zа-яА-Я]+', ' ', text).lower()\n",
        "  return text.strip()"
      ],
      "execution_count": 0,
      "outputs": []
    },
    {
      "cell_type": "code",
      "metadata": {
        "id": "WXQUj-knJ8-p",
        "colab_type": "code",
        "colab": {
          "base_uri": "https://localhost:8080/",
          "height": 34
        },
        "outputId": "6c05b8ca-611e-47c3-bd6f-a341e3cc46ef"
      },
      "source": [
        "# создаём экземпляр Sentence и передаём его нашей модели\n",
        "t = 'Да вы все ёбаные пидарасы!'\n",
        "\n",
        "sentence = Sentence(preprocess_text(t))\n",
        "model.predict(sentence)\n",
        "\n",
        "print(sentence.labels)"
      ],
      "execution_count": 63,
      "outputs": [
        {
          "output_type": "stream",
          "text": [
            "[1 (0.8408752679824829)]\n"
          ],
          "name": "stdout"
        }
      ]
    },
    {
      "cell_type": "markdown",
      "metadata": {
        "id": "enM_Cux7LKhF",
        "colab_type": "text"
      },
      "source": [
        "**Великолепно!**\n",
        "\n",
        "Модель нам верно указала, что данный комментарий является токсичным (метка 1).\n",
        "\n",
        "Вероятность токсичности комментария: 84%."
      ]
    }
  ]
}