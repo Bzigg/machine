{
  "nbformat": 4,
  "nbformat_minor": 0,
  "metadata": {
    "colab": {
      "name": "text_sentiment_bpe.ipynb",
      "version": "0.3.2",
      "provenance": [],
      "collapsed_sections": []
    },
    "kernelspec": {
      "name": "python3",
      "display_name": "Python 3"
    },
    "accelerator": "GPU"
  },
  "cells": [
    {
      "cell_type": "markdown",
      "metadata": {
        "id": "kV3ZOij_bJMa",
        "colab_type": "text"
      },
      "source": [
        "# Определение тональности текста с помощью фреймворка Flair\n",
        "\n",
        "Определение тональности текста - задача классификации. Здесь мы будем обучать модель разделять комментарии на положительный и отрицательный, что является примером бинарной классификации.\n",
        "\n",
        "Датасет для работы: [Отзывы о медучреждениях](https://github.com/blanchefort/datasets/tree/master/medical_comments).\n",
        "\n",
        "Построение и тренировка модели будет осуществляться с помощью NLP-фреймворка [Flair](https://github.com/zalandoresearch/flair)."
      ]
    },
    {
      "cell_type": "markdown",
      "metadata": {
        "id": "CqRmQ-SUljyj",
        "colab_type": "text"
      },
      "source": [
        "## 0. Загружаем необходимые пакеты"
      ]
    },
    {
      "cell_type": "code",
      "metadata": {
        "id": "6kMcno3eB4ik",
        "colab_type": "code",
        "colab": {}
      },
      "source": [
        "!pip install flair"
      ],
      "execution_count": 0,
      "outputs": []
    },
    {
      "cell_type": "code",
      "metadata": {
        "id": "mPUYRFiSCCy7",
        "colab_type": "code",
        "colab": {}
      },
      "source": [
        "# Подключаем диск Google Drive к Colab, на котором будем хранить данные\n",
        "from google.colab import drive\n",
        "drive.mount('/content/drive')"
      ],
      "execution_count": 0,
      "outputs": []
    },
    {
      "cell_type": "code",
      "metadata": {
        "id": "7ATCEv-G6pCt",
        "colab_type": "code",
        "colab": {}
      },
      "source": [
        "import pandas as pd\n",
        "import numpy as np\n",
        "import re\n",
        "\n",
        "import matplotlib.pyplot as plt\n",
        "import matplotlib.patches as mpatches\n",
        "\n",
        "from flair.data import Corpus\n",
        "from flair.datasets import ClassificationCorpus\n",
        "from flair.embeddings import BytePairEmbeddings\n",
        "from flair.embeddings import DocumentPoolEmbeddings\n",
        "from flair.models import TextClassifier\n",
        "from flair.trainers import ModelTrainer\n",
        "from flair.visual.training_curves import Plotter\n",
        "from flair.data import Sentence"
      ],
      "execution_count": 0,
      "outputs": []
    },
    {
      "cell_type": "code",
      "metadata": {
        "id": "LUow94V-6_HO",
        "colab_type": "code",
        "outputId": "cd20db74-e30b-43cc-ab62-d97b79a2149c",
        "colab": {
          "base_uri": "https://localhost:8080/",
          "height": 34
        }
      },
      "source": [
        "plt.figure(figsize=(12, 6), dpi=100)\n",
        "plt.style.use('bmh')"
      ],
      "execution_count": 0,
      "outputs": [
        {
          "output_type": "display_data",
          "data": {
            "text/plain": [
              "<Figure size 1200x600 with 0 Axes>"
            ]
          },
          "metadata": {
            "tags": []
          }
        }
      ]
    },
    {
      "cell_type": "markdown",
      "metadata": {
        "id": "eOwyJaFQcNb-",
        "colab_type": "text"
      },
      "source": [
        "## 1. Подготавливаем датасет для работы"
      ]
    },
    {
      "cell_type": "code",
      "metadata": {
        "id": "A_BHWYoI7Bc6",
        "colab_type": "code",
        "colab": {}
      },
      "source": [
        "df = pd.read_csv('/content/drive/My Drive/colab_data/sentiment/data/prodoctorov_raw.csv')"
      ],
      "execution_count": 0,
      "outputs": []
    },
    {
      "cell_type": "code",
      "metadata": {
        "id": "fRm9r4Wd7M_u",
        "colab_type": "code",
        "outputId": "2cd0789c-61fb-4204-962f-690b9d91aa76",
        "colab": {
          "base_uri": "https://localhost:8080/",
          "height": 204
        }
      },
      "source": [
        "# Посмотрим на датасет\n",
        "df.head()"
      ],
      "execution_count": 0,
      "outputs": [
        {
          "output_type": "execute_result",
          "data": {
            "text/html": [
              "<div>\n",
              "<style scoped>\n",
              "    .dataframe tbody tr th:only-of-type {\n",
              "        vertical-align: middle;\n",
              "    }\n",
              "\n",
              "    .dataframe tbody tr th {\n",
              "        vertical-align: top;\n",
              "    }\n",
              "\n",
              "    .dataframe thead th {\n",
              "        text-align: right;\n",
              "    }\n",
              "</style>\n",
              "<table border=\"1\" class=\"dataframe\">\n",
              "  <thead>\n",
              "    <tr style=\"text-align: right;\">\n",
              "      <th></th>\n",
              "      <th>text</th>\n",
              "      <th>sentiment</th>\n",
              "    </tr>\n",
              "  </thead>\n",
              "  <tbody>\n",
              "    <tr>\n",
              "      <th>0</th>\n",
              "      <td>Хочу написать про окулиста Светлану Хизировну...</td>\n",
              "      <td>Ужасно</td>\n",
              "    </tr>\n",
              "    <tr>\n",
              "      <th>1</th>\n",
              "      <td>Спасибо коллективу роддома за дочку и сыночка...</td>\n",
              "      <td>Хорошо</td>\n",
              "    </tr>\n",
              "    <tr>\n",
              "      <th>2</th>\n",
              "      <td>Ужасные врачи. Если звонить ночью, то не дозв...</td>\n",
              "      <td>Ужасно</td>\n",
              "    </tr>\n",
              "    <tr>\n",
              "      <th>3</th>\n",
              "      <td>Очень приятные воспоминания остались после ро...</td>\n",
              "      <td>Плохо</td>\n",
              "    </tr>\n",
              "    <tr>\n",
              "      <th>4</th>\n",
              "      <td>Спасибо огромное всему персоналу за их отзывч...</td>\n",
              "      <td>Отлично</td>\n",
              "    </tr>\n",
              "  </tbody>\n",
              "</table>\n",
              "</div>"
            ],
            "text/plain": [
              "                                                text sentiment\n",
              "0   Хочу написать про окулиста Светлану Хизировну...    Ужасно\n",
              "1   Спасибо коллективу роддома за дочку и сыночка...    Хорошо\n",
              "2   Ужасные врачи. Если звонить ночью, то не дозв...    Ужасно\n",
              "3   Очень приятные воспоминания остались после ро...     Плохо\n",
              "4   Спасибо огромное всему персоналу за их отзывч...   Отлично"
            ]
          },
          "metadata": {
            "tags": []
          },
          "execution_count": 4
        }
      ]
    },
    {
      "cell_type": "code",
      "metadata": {
        "id": "0wCEFyIx7P1t",
        "colab_type": "code",
        "outputId": "09cb19cd-525e-4467-cfee-594a2020f1b0",
        "colab": {
          "base_uri": "https://localhost:8080/",
          "height": 606
        }
      },
      "source": [
        "# Посмотрим на распределение датасета по нашей целевой переменной\n",
        "df.sentiment.value_counts().plot.bar()"
      ],
      "execution_count": 0,
      "outputs": [
        {
          "output_type": "execute_result",
          "data": {
            "text/plain": [
              "<matplotlib.axes._subplots.AxesSubplot at 0x7f551112a978>"
            ]
          },
          "metadata": {
            "tags": []
          },
          "execution_count": 6
        },
        {
          "output_type": "display_data",
          "data": {
            "image/png": "[encoded data removed]",
            "text/plain": [
              "<Figure size 1200x600 with 1 Axes>"
            ]
          },
          "metadata": {
            "tags": []
          }
        }
      ]
    },
    {
      "cell_type": "markdown",
      "metadata": {
        "id": "BvWjkr0kcfl7",
        "colab_type": "text"
      },
      "source": [
        "Как видно, из графика, в датасете присутствует сильных дисбаланс. Но для решения нашей задачи (бинарной классификации) нам нужны лишь две категории текстов: положительные, отрицательные. Поэтому преобразуем датасет следующим образом:\n",
        "\n",
        "* **Положительные (1)** = «Отлично»\n",
        "* **Отрицательные (0)** = «Ужасно» + «Плохо»\n",
        "\n",
        "А комментарии типа «Хорошо» и «Нормально» удалим."
      ]
    },
    {
      "cell_type": "code",
      "metadata": {
        "id": "b9Q5nu-S74AE",
        "colab_type": "code",
        "outputId": "a87b3b6d-6ff9-4a29-fdba-17f48cd21638",
        "colab": {
          "base_uri": "https://localhost:8080/",
          "height": 51
        }
      },
      "source": [
        "# отметим, что в датасете название категории начинается с пробела\n",
        "df.sentiment.unique()"
      ],
      "execution_count": 30,
      "outputs": [
        {
          "output_type": "execute_result",
          "data": {
            "text/plain": [
              "array([' Ужасно', ' Хорошо', ' Плохо', ' Отлично', ' Нормально'],\n",
              "      dtype=object)"
            ]
          },
          "metadata": {
            "tags": []
          },
          "execution_count": 30
        }
      ]
    },
    {
      "cell_type": "code",
      "metadata": {
        "id": "5U5hQ0bc7ZlJ",
        "colab_type": "code",
        "colab": {}
      },
      "source": [
        "df = df.drop(df[df.sentiment == ' Хорошо'].index)"
      ],
      "execution_count": 0,
      "outputs": []
    },
    {
      "cell_type": "code",
      "metadata": {
        "id": "VbkTlrog8AVv",
        "colab_type": "code",
        "colab": {}
      },
      "source": [
        "df = df.drop(df[df.sentiment == ' Нормально'].index)"
      ],
      "execution_count": 0,
      "outputs": []
    },
    {
      "cell_type": "code",
      "metadata": {
        "id": "HJCBnBly8g0X",
        "colab_type": "code",
        "outputId": "d93630a8-a1d4-4f60-f392-68103e3d0d88",
        "colab": {
          "base_uri": "https://localhost:8080/",
          "height": 34
        }
      },
      "source": [
        "df.sentiment.unique()"
      ],
      "execution_count": 0,
      "outputs": [
        {
          "output_type": "execute_result",
          "data": {
            "text/plain": [
              "array([' Ужасно', ' Плохо', ' Отлично'], dtype=object)"
            ]
          },
          "metadata": {
            "tags": []
          },
          "execution_count": 14
        }
      ]
    },
    {
      "cell_type": "code",
      "metadata": {
        "id": "HayEMYFa8i54",
        "colab_type": "code",
        "colab": {}
      },
      "source": [
        "sent_map = {\n",
        "    ' Ужасно' : 0,\n",
        "    ' Плохо' : 0,\n",
        "    ' Отлично' : 1\n",
        "}\n",
        "\n",
        "df.sentiment = df.sentiment.map(sent_map)"
      ],
      "execution_count": 0,
      "outputs": []
    },
    {
      "cell_type": "markdown",
      "metadata": {
        "id": "IoXrDfeQdglz",
        "colab_type": "text"
      },
      "source": [
        "Теперь посмотрим на распределение преобразованного датасета.\n",
        "\n",
        "Хоть получившееся распределение и не идеально (текстов категории 1 немного больше, чем текстов категории 2), мы всё же оставим это распределение таким, ничего больше не сокращая и не добавляя."
      ]
    },
    {
      "cell_type": "code",
      "metadata": {
        "id": "uhMuwyIk80jH",
        "colab_type": "code",
        "outputId": "911056f7-a504-4038-bcce-a32d9643c42c",
        "colab": {
          "base_uri": "https://localhost:8080/",
          "height": 521
        }
      },
      "source": [
        "df.sentiment.value_counts().plot.bar()"
      ],
      "execution_count": 0,
      "outputs": [
        {
          "output_type": "execute_result",
          "data": {
            "text/plain": [
              "<matplotlib.axes._subplots.AxesSubplot at 0x7f550dff95f8>"
            ]
          },
          "metadata": {
            "tags": []
          },
          "execution_count": 17
        },
        {
          "output_type": "display_data",
          "data": {
            "image/png": "[encoded data removed]",
            "text/plain": [
              "<Figure size 1200x600 with 1 Axes>"
            ]
          },
          "metadata": {
            "tags": []
          }
        }
      ]
    },
    {
      "cell_type": "markdown",
      "metadata": {
        "id": "0LieL3oed10_",
        "colab_type": "text"
      },
      "source": [
        "Произведём предобработку наших текстов:\n",
        "* приведение к нижнему регистру;\n",
        "* замена буквы «ё» на букву «е»;\n",
        "* удаление всех символов, кроме букв русского и английского языка;\n",
        "* удаление лишних пробелов.\n",
        "\n",
        "Лемматизацию (приведение слова к нормальной форме: *кошками → кошка*) мы производить не будем, чтобы иметь возможность учитывать оттенки слов.\n",
        "\n",
        "Предобработанные данные сохраним в формате [fastText](https://fasttext.cc/). Это текстовый файл, в котором сохранены предобработанные тексты с меткой класса.\n",
        "\n",
        "Первым параметром идёт метка, начинающаяся со служебного слова `__label__`.\n",
        "\n",
        "Например, так: `__label__mark` или так: `__label__0`.\n",
        "\n",
        "Затем через пробел идёт сам предобработанный текст. Каждый элемент датасета начинается с новой строки.\n",
        "\n",
        "Для этого преобразуем признак `sentiment`. И поменяем колонки местами."
      ]
    },
    {
      "cell_type": "code",
      "metadata": {
        "id": "IzzNjlNJ9R_X",
        "colab_type": "code",
        "colab": {}
      },
      "source": [
        "df.text = df.text.str.lower()\n",
        "df.text = df.text.str.replace('ё', 'е', regex=False)\n",
        "df.text = df.text.str.replace('[^a-zа-я]+', ' ')\n",
        "df.text = df.text.str.replace(' +', ' ')\n",
        "df.text = df.text.str.strip()"
      ],
      "execution_count": 0,
      "outputs": []
    },
    {
      "cell_type": "code",
      "metadata": {
        "id": "YoPMswiK-LQX",
        "colab_type": "code",
        "colab": {}
      },
      "source": [
        "df = df.reindex(columns=['sentiment', 'text'])"
      ],
      "execution_count": 0,
      "outputs": []
    },
    {
      "cell_type": "code",
      "metadata": {
        "id": "86bG5LD6-aqU",
        "colab_type": "code",
        "outputId": "8d772dd9-ffab-4f53-bda5-c030f9217cd8",
        "colab": {
          "base_uri": "https://localhost:8080/",
          "height": 204
        }
      },
      "source": [
        "df.sentiment = '__label__' + df.sentiment.apply(str)\n",
        "df.head()"
      ],
      "execution_count": 0,
      "outputs": [
        {
          "output_type": "execute_result",
          "data": {
            "text/html": [
              "<div>\n",
              "<style scoped>\n",
              "    .dataframe tbody tr th:only-of-type {\n",
              "        vertical-align: middle;\n",
              "    }\n",
              "\n",
              "    .dataframe tbody tr th {\n",
              "        vertical-align: top;\n",
              "    }\n",
              "\n",
              "    .dataframe thead th {\n",
              "        text-align: right;\n",
              "    }\n",
              "</style>\n",
              "<table border=\"1\" class=\"dataframe\">\n",
              "  <thead>\n",
              "    <tr style=\"text-align: right;\">\n",
              "      <th></th>\n",
              "      <th>sentiment</th>\n",
              "      <th>text</th>\n",
              "    </tr>\n",
              "  </thead>\n",
              "  <tbody>\n",
              "    <tr>\n",
              "      <th>0</th>\n",
              "      <td>__label__0</td>\n",
              "      <td>хочу написать про окулиста светлану хизировну ...</td>\n",
              "    </tr>\n",
              "    <tr>\n",
              "      <th>2</th>\n",
              "      <td>__label__0</td>\n",
              "      <td>ужасные врачи если звонить ночью то не дозвони...</td>\n",
              "    </tr>\n",
              "    <tr>\n",
              "      <th>3</th>\n",
              "      <td>__label__0</td>\n",
              "      <td>очень приятные воспоминания остались после род...</td>\n",
              "    </tr>\n",
              "    <tr>\n",
              "      <th>4</th>\n",
              "      <td>__label__1</td>\n",
              "      <td>спасибо огромное всему персоналу за их отзывчи...</td>\n",
              "    </tr>\n",
              "    <tr>\n",
              "      <th>5</th>\n",
              "      <td>__label__1</td>\n",
              "      <td>врачи очень отзывчивые о о очень хорошие они с...</td>\n",
              "    </tr>\n",
              "  </tbody>\n",
              "</table>\n",
              "</div>"
            ],
            "text/plain": [
              "    sentiment                                               text\n",
              "0  __label__0  хочу написать про окулиста светлану хизировну ...\n",
              "2  __label__0  ужасные врачи если звонить ночью то не дозвони...\n",
              "3  __label__0  очень приятные воспоминания остались после род...\n",
              "4  __label__1  спасибо огромное всему персоналу за их отзывчи...\n",
              "5  __label__1  врачи очень отзывчивые о о очень хорошие они с..."
            ]
          },
          "metadata": {
            "tags": []
          },
          "execution_count": 23
        }
      ]
    },
    {
      "cell_type": "markdown",
      "metadata": {
        "id": "n6RNsD6hgfWv",
        "colab_type": "text"
      },
      "source": [
        "Разбиваем предобработанный датасет на три выборки:\n",
        "\n",
        "* обучающую\n",
        "* валидационную\n",
        "* тестовую\n",
        "\n"
      ]
    },
    {
      "cell_type": "code",
      "metadata": {
        "id": "sKnkLXCs_YZP",
        "colab_type": "code",
        "colab": {}
      },
      "source": [
        "# https://stackoverflow.com/a/38251063\n",
        "def train_validate_test_split(df, train_percent=.6, validate_percent=.2, seed=None):\n",
        "    np.random.seed(seed)\n",
        "    perm = np.random.permutation(df.index)\n",
        "    m = len(df.index)\n",
        "    train_end = int(train_percent * m)\n",
        "    validate_end = int(validate_percent * m) + train_end\n",
        "    train = df.loc[perm[:train_end]]\n",
        "    validate = df.loc[perm[train_end:validate_end]]\n",
        "    test = df.loc[perm[validate_end:]]\n",
        "    return train, validate, test"
      ],
      "execution_count": 0,
      "outputs": []
    },
    {
      "cell_type": "code",
      "metadata": {
        "id": "HeuHrxJ-_hXU",
        "colab_type": "code",
        "colab": {}
      },
      "source": [
        "train, validate, test = train_validate_test_split(df, train_percent=.7, validate_percent=.2, seed=700)"
      ],
      "execution_count": 0,
      "outputs": []
    },
    {
      "cell_type": "code",
      "metadata": {
        "id": "gKbsLjAC_hxc",
        "colab_type": "code",
        "outputId": "5b010294-6dd1-4878-dcf1-9057571ec010",
        "colab": {
          "base_uri": "https://localhost:8080/",
          "height": 34
        }
      },
      "source": [
        "train.shape[0], validate.shape[0], test.shape[0]"
      ],
      "execution_count": 0,
      "outputs": [
        {
          "output_type": "execute_result",
          "data": {
            "text/plain": [
              "(106418, 30405, 15203)"
            ]
          },
          "metadata": {
            "tags": []
          },
          "execution_count": 33
        }
      ]
    },
    {
      "cell_type": "code",
      "metadata": {
        "id": "Mimw5VAPAn0m",
        "colab_type": "code",
        "colab": {}
      },
      "source": [
        "train.to_csv('/content/drive/My Drive/colab_data/sentiment/data/sentiment.train.fasttext',\n",
        "             sep=' ',\n",
        "             index=False,\n",
        "             header=None)\n",
        "validate.to_csv('/content/drive/My Drive/colab_data/sentiment/data/sentiment.validate.fasttext',\n",
        "                sep=' ',\n",
        "                index=False,\n",
        "                header=None)\n",
        "test.to_csv('/content/drive/My Drive/colab_data/sentiment/data/sentiment.test.fasttext',\n",
        "            sep=' ',\n",
        "            index=False,\n",
        "            header=None)"
      ],
      "execution_count": 0,
      "outputs": []
    },
    {
      "cell_type": "markdown",
      "metadata": {
        "id": "W0PKPBGkg1rn",
        "colab_type": "text"
      },
      "source": [
        "## 2. Создание и обучение модели\n",
        "\n",
        "Загружаем подготовленный датасет. Для более быстрой обработки информации можно весть датасет поместить в оперативную память. Для этого выставляем флаг: \n",
        "\n",
        "```\n",
        "in_memory=True\n",
        "```\n",
        "\n",
        "Здесь я не загружаю весь датасет в память, так как Google Colab ограничивает мне оперативню память тринадцатью гигабайтами.\n",
        "\n"
      ]
    },
    {
      "cell_type": "code",
      "metadata": {
        "id": "VThX4OWZAo9H",
        "colab_type": "code",
        "outputId": "6eb25eea-bd96-48e3-aa75-fed8701db8a2",
        "colab": {
          "base_uri": "https://localhost:8080/",
          "height": 85
        }
      },
      "source": [
        "data_folder = '/content/drive/My Drive/colab_data/sentiment/data/'\n",
        "\n",
        "corpus: Corpus = ClassificationCorpus(\n",
        "    data_folder,\n",
        "    train_file='sentiment.train.fasttext',\n",
        "    dev_file='sentiment.validate.fasttext',\n",
        "    test_file='sentiment.test.fasttext',\n",
        "    in_memory=False)"
      ],
      "execution_count": 0,
      "outputs": [
        {
          "output_type": "stream",
          "text": [
            "2019-08-27 07:49:49,836 Reading data from /content/drive/My Drive/colab_data/sentiment/data\n",
            "2019-08-27 07:49:49,838 Train: /content/drive/My Drive/colab_data/sentiment/data/sentiment.train.fasttext\n",
            "2019-08-27 07:49:49,842 Dev: /content/drive/My Drive/colab_data/sentiment/data/sentiment.validate.fasttext\n",
            "2019-08-27 07:49:49,844 Test: /content/drive/My Drive/colab_data/sentiment/data/sentiment.test.fasttext\n"
          ],
          "name": "stdout"
        }
      ]
    },
    {
      "cell_type": "code",
      "metadata": {
        "id": "jkdbGPo7BmbA",
        "colab_type": "code",
        "outputId": "2e66e4d2-5a5b-4bfc-97f6-5751e3c4ca77",
        "colab": {
          "base_uri": "https://localhost:8080/",
          "height": 34
        }
      },
      "source": [
        "# Проверим загруженные данные\n",
        "print(len(corpus.train), len(corpus.dev), len(corpus.test), sep=', ')"
      ],
      "execution_count": 0,
      "outputs": [
        {
          "output_type": "stream",
          "text": [
            "106418, 30405, 15203\n"
          ],
          "name": "stdout"
        }
      ]
    },
    {
      "cell_type": "code",
      "metadata": {
        "id": "qWCGEPeDChPY",
        "colab_type": "code",
        "outputId": "04e63a53-a0f3-4d77-9360-bbf6db7bf4ae",
        "colab": {
          "base_uri": "https://localhost:8080/",
          "height": 68
        }
      },
      "source": [
        "# Наши метки\n",
        "# 0 - негативные отзывы, 1 - положительные\n",
        "label_dict = corpus.make_label_dictionary()"
      ],
      "execution_count": 0,
      "outputs": [
        {
          "output_type": "stream",
          "text": [
            "2019-08-27 07:50:01,863 Computing label dictionary. Progress:\n"
          ],
          "name": "stdout"
        },
        {
          "output_type": "stream",
          "text": [
            "100%|██████████| 106418/106418 [04:07<00:00, 430.79it/s]"
          ],
          "name": "stderr"
        },
        {
          "output_type": "stream",
          "text": [
            "2019-08-27 07:54:09,045 [b'1', b'0']\n"
          ],
          "name": "stdout"
        },
        {
          "output_type": "stream",
          "text": [
            "\n"
          ],
          "name": "stderr"
        }
      ]
    },
    {
      "cell_type": "markdown",
      "metadata": {
        "id": "PLRIoK01hfGr",
        "colab_type": "text"
      },
      "source": [
        "В качестве векторов слов мы будем использовать BPE — [Byte Pair Embeddings](https://nlp.h-its.org/bpemb/). Для нашей задачи — анализ тональности текста — данная модель, пожалуй, одно из наилучших решений на сегодняшний день.\n",
        "\n",
        "Во-первых, если мы будем использовать свой словарь — словарь, основанный на словах из нашего датасета, то всегда есть возможность, что в процессе использования модели ей встретится незнакомое слово.\n",
        "\n",
        "Во-вторых, уже существующие полнословные словари слишком большие.\n",
        "\n",
        "В-третьих, с помощью модели BPE мы будем учитывать возможные опечатки в тексте и жаргонную лексику, а это очень распространённое явление в пользовательских комментариях в соцсетях. Такая модель, как, например, FastText тоже умеет учитывать не встречающиеся в её словаре слова, но она слишком большая — всё это (в частности для русского языка) из-за того, что слова в словаре были некачественно предобработаны.\n",
        "\n",
        "Таким образом, BPE — предобученная модель сравнительно небольшого размера, с помошью которой можно учесть опечатки, жаргон и даже несуществующие в словаре слова.\n",
        "\n",
        "Есть несколько вариаций BPE. В зависимости от словаря используются различные методы разбиения слова на подслова (как слоги). Благодаря разбиению на подслова мы имеем возможность учитывать различные формы слов.\n",
        "\n",
        "Примеры различных эмбеддингов  BPE для русского языка (для текста «кошачья мята»):\n",
        "\n",
        "| Размер словаря  |\tСегментация                                   |\n",
        "|:---------------:|:----------------------------------------------|\n",
        "|1000             |`['▁ко', 'ша', 'ч', 'ь', 'я', '▁м', 'я', 'та']`|\n",
        "|3000             |`['▁ко', 'ша', 'ч', 'ья', '▁мя', 'та']`\t      |\n",
        "|5000\t            |`['▁ко', 'ша', 'ч', 'ья', '▁мя', 'та']`        |\n",
        "|10000\t          |`['▁ко', 'ша', 'ч', 'ья', '▁мя', 'та']`        |\n",
        "|25000\t          |`['▁ко', 'ша', 'чья', '▁мя', 'та']`            |\n",
        "|50000\t          |`['▁коша', 'чья', '▁мя', 'та']`                |\n",
        "|100000\t          |`['▁коша', 'чья', '▁мя', 'та']`                |\n",
        "|200000\t          |`['▁кошачья', '▁мята']`                        |\n",
        "\n",
        "Указать необходимый размер словаря для BPE во Flair можно с помощью аргумента `syllables`:\n",
        "\n",
        "\n",
        "```\n",
        "BytePairEmbeddings(language='ru', dim=50, syllables=1000)\n",
        "```"
      ]
    },
    {
      "cell_type": "code",
      "metadata": {
        "id": "RHT2EBQQCo6A",
        "colab_type": "code",
        "outputId": "91ab5be4-9ff3-4ac4-ac36-66cce9dc6a46",
        "colab": {
          "base_uri": "https://localhost:8080/",
          "height": 139
        }
      },
      "source": [
        "bpe = BytePairEmbeddings(language='ru', dim=100, syllables=50000)"
      ],
      "execution_count": 0,
      "outputs": [
        {
          "output_type": "stream",
          "text": [
            "downloading https://nlp.h-its.org/bpemb/ru/ru.wiki.bpe.vs50000.model\n"
          ],
          "name": "stdout"
        },
        {
          "output_type": "stream",
          "text": [
            "100%|██████████| 1404906/1404906 [00:00<00:00, 1987685.46B/s]\n"
          ],
          "name": "stderr"
        },
        {
          "output_type": "stream",
          "text": [
            "downloading https://nlp.h-its.org/bpemb/ru/ru.wiki.bpe.vs50000.d100.w2v.bin.tar.gz\n"
          ],
          "name": "stdout"
        },
        {
          "output_type": "stream",
          "text": [
            "100%|██████████| 19076003/19076003 [00:01<00:00, 11751851.80B/s]\n",
            "/usr/local/lib/python3.6/dist-packages/smart_open/smart_open_lib.py:398: UserWarning: This function is deprecated, use smart_open.open instead. See the migration notes for details: https://github.com/RaRe-Technologies/smart_open/blob/master/README.rst#migrating-to-the-new-open-function\n",
            "  'See the migration notes for details: %s' % _MIGRATION_NOTES_URL\n"
          ],
          "name": "stderr"
        }
      ]
    },
    {
      "cell_type": "markdown",
      "metadata": {
        "id": "K5la2-AdoXG6",
        "colab_type": "text"
      },
      "source": [
        "Каждое предложение имеет разный размер, поэтому преобразованные векторы тоже будут разноразмерными. Однако, мы не можем передавать классификатору разноразмерные параметры. Для этого нужно привести наши данные к единой размерности. \n",
        "\n",
        "Для этого воспользуемся классом `DocumentPoolEmbeddings` фреймворка Flair. Он принимает различные вектора слов текста и приводит их к тензору единой размерности - эмбеддингу документа."
      ]
    },
    {
      "cell_type": "code",
      "metadata": {
        "id": "xWnQP6DxEohv",
        "colab_type": "code",
        "colab": {}
      },
      "source": [
        "document_emb = DocumentPoolEmbeddings([bpe], fine_tune_mode='nonlinear')"
      ],
      "execution_count": 0,
      "outputs": []
    },
    {
      "cell_type": "code",
      "metadata": {
        "id": "hFoGY5qjEr4Y",
        "colab_type": "code",
        "colab": {}
      },
      "source": [
        "# Инициализируем текстовый классификатор\n",
        "classifier = TextClassifier(document_emb, label_dictionary=label_dict)\n",
        "\n",
        "# По умолчанию в качестве оптимизатора используется SGD.\n",
        "# Мы будем использовать его, поэтому не указываем явно тип оптимизатора:\n",
        "trainer = ModelTrainer(classifier, corpus)\n",
        "\n",
        "# Если же нужно использовать какой-то иной алгоритм, его нужно указать:\n",
        "#\n",
        "# from torch.optim.adam import Adam\n",
        "# trainer = ModelTrainer(classifier, corpus, optimizer=Adam)\n",
        "\n",
        "# По умолчанию данный фреймворк использует GPU. Если GPU нет, фреймворк сам \n",
        "# выбирает CPU.\n",
        "# Если для обучения используется CPU, можно указать количество процессоров\n",
        "# trainer.num_workers = 15\n",
        "#\n",
        "# Что используется на данный момент, можно узнать, выполнив следующий код:\n",
        "# import flair\n",
        "# print(flair.device)"
      ],
      "execution_count": 0,
      "outputs": []
    },
    {
      "cell_type": "code",
      "metadata": {
        "id": "b0_RQhBMEyfn",
        "colab_type": "code",
        "outputId": "4b08d36b-2ce3-4693-c858-21b92ef89d57",
        "colab": {
          "base_uri": "https://localhost:8080/",
          "height": 1000
        }
      },
      "source": [
        "# Начинаем тренировку\n",
        "# Можно указывать сколько угодно много эпох, а потом, когда модель будет \n",
        "# достаточно обучена, остановить выполнение кода. Фреймворк поймёт, что\n",
        "# надо прекратить обучение,- остановится, пересчитает все веса\n",
        "# и сохранит наилучший результат в файл best_model.pt\n",
        "trainer.train(\n",
        "    '/content/drive/My Drive/colab_data/sentiment/model',\n",
        "    learning_rate=0.1,\n",
        "    mini_batch_size=64,\n",
        "    anneal_factor=0.5,\n",
        "    patience=5,\n",
        "    max_epochs=2000,\n",
        "    monitor_train=True)"
      ],
      "execution_count": 8,
      "outputs": [
        {
          "output_type": "stream",
          "text": [
            "2019-08-27 07:57:04,662 ----------------------------------------------------------------------------------------------------\n",
            "2019-08-27 07:57:04,666 Model: \"TextClassifier(\n",
            "  (document_embeddings): DocumentPoolEmbeddings(\n",
            "    fine_tune_mode=nonlinear, pooling=mean\n",
            "    (embeddings): StackedEmbeddings(\n",
            "      (list_embedding_0): BytePairEmbeddings(model=bpe-ru-50000-100)\n",
            "    )\n",
            "    (embedding_flex): Linear(in_features=200, out_features=200, bias=False)\n",
            "    (embedding_flex_nonlinear): ReLU(inplace)\n",
            "    (embedding_flex_nonlinear_map): Linear(in_features=200, out_features=200, bias=True)\n",
            "  )\n",
            "  (decoder): Linear(in_features=200, out_features=2, bias=True)\n",
            "  (loss_function): CrossEntropyLoss()\n",
            ")\"\n",
            "2019-08-27 07:57:04,670 ----------------------------------------------------------------------------------------------------\n",
            "2019-08-27 07:57:04,672 Corpus: \"Corpus: 106418 train + 30405 dev + 15203 test sentences\"\n",
            "2019-08-27 07:57:04,674 ----------------------------------------------------------------------------------------------------\n",
            "2019-08-27 07:57:04,676 Parameters:\n",
            "2019-08-27 07:57:04,679  - learning_rate: \"0.1\"\n",
            "2019-08-27 07:57:04,680  - mini_batch_size: \"64\"\n",
            "2019-08-27 07:57:04,683  - patience: \"5\"\n",
            "2019-08-27 07:57:04,685  - anneal_factor: \"0.5\"\n",
            "2019-08-27 07:57:04,688  - max_epochs: \"2000\"\n",
            "2019-08-27 07:57:04,690  - shuffle: \"True\"\n",
            "2019-08-27 07:57:04,692  - train_with_dev: \"False\"\n",
            "2019-08-27 07:57:04,694 ----------------------------------------------------------------------------------------------------\n",
            "2019-08-27 07:57:04,697 Model training base path: \"/content/drive/My Drive/colab_data/sentiment/model\"\n",
            "2019-08-27 07:57:04,699 ----------------------------------------------------------------------------------------------------\n",
            "2019-08-27 07:57:04,701 Device: cuda:0\n",
            "2019-08-27 07:57:04,704 ----------------------------------------------------------------------------------------------------\n",
            "2019-08-27 07:57:04,706 Embeddings storage mode: cpu\n",
            "2019-08-27 07:57:05,315 ----------------------------------------------------------------------------------------------------\n",
            "2019-08-27 07:57:07,758 epoch 1 - iter 0/1663 - loss 0.68237412 - samples/sec: 6689.05\n",
            "2019-08-27 07:59:51,443 epoch 1 - iter 166/1663 - loss 0.48387098 - samples/sec: 68.77\n",
            "2019-08-27 08:02:32,975 epoch 1 - iter 332/1663 - loss 0.38214697 - samples/sec: 69.93\n",
            "2019-08-27 08:05:15,407 epoch 1 - iter 498/1663 - loss 0.33399818 - samples/sec: 69.10\n",
            "2019-08-27 08:07:58,510 epoch 1 - iter 664/1663 - loss 0.30652542 - samples/sec: 68.86\n",
            "2019-08-27 08:10:41,037 epoch 1 - iter 830/1663 - loss 0.28487381 - samples/sec: 69.23\n",
            "2019-08-27 08:13:24,207 epoch 1 - iter 996/1663 - loss 0.27125623 - samples/sec: 68.74\n",
            "2019-08-27 08:16:07,065 epoch 1 - iter 1162/1663 - loss 0.25909171 - samples/sec: 68.83\n",
            "2019-08-27 08:18:51,422 epoch 1 - iter 1328/1663 - loss 0.24948821 - samples/sec: 68.35\n",
            "2019-08-27 08:21:34,944 epoch 1 - iter 1494/1663 - loss 0.24270090 - samples/sec: 69.26\n",
            "2019-08-27 08:24:17,338 epoch 1 - iter 1660/1663 - loss 0.23567189 - samples/sec: 69.28\n",
            "2019-08-27 08:24:19,056 ----------------------------------------------------------------------------------------------------\n",
            "2019-08-27 08:24:19,060 EPOCH 1 done: loss 0.2356 - lr 0.1000\n",
            "2019-08-27 09:06:45,725 DEV : loss 0.22748644649982452 - score 0.9104\n",
            "2019-08-27 09:09:01,954 BAD EPOCHS (no improvement): 0\n",
            "2019-08-27 09:09:03,269 ----------------------------------------------------------------------------------------------------\n",
            "2019-08-27 09:09:05,850 epoch 2 - iter 0/1663 - loss 0.27376956 - samples/sec: 11128.16\n",
            "2019-08-27 09:11:48,571 epoch 2 - iter 166/1663 - loss 0.17594719 - samples/sec: 69.50\n",
            "2019-08-27 09:14:31,037 epoch 2 - iter 332/1663 - loss 0.17037375 - samples/sec: 69.93\n",
            "2019-08-27 09:16:30,532 ----------------------------------------------------------------------------------------------------\n",
            "2019-08-27 09:16:30,534 Exiting from training early.\n",
            "2019-08-27 09:16:30,535 Saving model ...\n",
            "2019-08-27 09:16:31,663 Done.\n",
            "2019-08-27 09:16:31,673 ----------------------------------------------------------------------------------------------------\n",
            "2019-08-27 09:16:31,678 Testing using best model ...\n",
            "2019-08-27 09:16:31,681 loading file /content/drive/My Drive/colab_data/sentiment/model/best-model.pt\n",
            "2019-08-27 09:19:45,736 0.9127\t0.9127\t0.9127\n",
            "2019-08-27 09:19:45,745 \n",
            "MICRO_AVG: acc 0.8394 - f1-score 0.9127\n",
            "MACRO_AVG: acc 0.8345 - f1-score 0.9095\n",
            "0          tp: 5510 - fp: 144 - fn: 1183 - tn: 8366 - precision: 0.9745 - recall: 0.8232 - accuracy: 0.8059 - f1-score: 0.8925\n",
            "1          tp: 8366 - fp: 1183 - fn: 144 - tn: 5510 - precision: 0.8761 - recall: 0.9831 - accuracy: 0.8631 - f1-score: 0.9265\n",
            "2019-08-27 09:19:45,750 ----------------------------------------------------------------------------------------------------\n"
          ],
          "name": "stdout"
        },
        {
          "output_type": "execute_result",
          "data": {
            "text/plain": [
              "{'test_score': 0.9127,\n",
              " 'dev_score_history': [0.9104],\n",
              " 'train_loss_history': [tensor(0.2255, device='cuda:0')],\n",
              " 'dev_loss_history': [tensor(0.2275, device='cuda:0')]}"
            ]
          },
          "metadata": {
            "tags": []
          },
          "execution_count": 8
        }
      ]
    },
    {
      "cell_type": "markdown",
      "metadata": {
        "id": "o4AhE-QWjwd6",
        "colab_type": "text"
      },
      "source": [
        "## 3. Использование обученной модели\n",
        "\n",
        "Как видно из листинга выше, уже после первой эпохи мы достигли довольно-таки неплохих результатов обучения, поэтому я остановил процесс. Для моделей, которые предстоит использовать в проде, конечно же, не нужно останавливать процесс обучения, пока ещё есть возможность улучшить качество модели.\n",
        "\n",
        "Итак, параметры получившейся модели таковы:\n",
        "\n",
        "* **Accuracy:** 83,94%\n",
        "* **F1:** 91,27%"
      ]
    },
    {
      "cell_type": "code",
      "metadata": {
        "id": "04KdMaicFAeQ",
        "colab_type": "code",
        "colab": {
          "base_uri": "https://localhost:8080/",
          "height": 34
        },
        "outputId": "4cd19fad-470d-4159-93c8-da269e73e413"
      },
      "source": [
        "# Загружаем модель для использования\n",
        "model = TextClassifier.load('/content/drive/My Drive/colab_data/sentiment/model/best-model.pt')"
      ],
      "execution_count": 14,
      "outputs": [
        {
          "output_type": "stream",
          "text": [
            "2019-08-27 09:24:50,116 loading file /content/drive/My Drive/colab_data/sentiment/model/best-model.pt\n"
          ],
          "name": "stdout"
        }
      ]
    },
    {
      "cell_type": "code",
      "metadata": {
        "id": "Kn26dl8NYjp5",
        "colab_type": "code",
        "colab": {
          "base_uri": "https://localhost:8080/",
          "height": 34
        },
        "outputId": "43f94ae1-c227-4f31-f98c-e3462df2d6e6"
      },
      "source": [
        "# Сколько параметров у нашей модели?\n",
        "def count_parameters(model):\n",
        "    return sum(p.numel() for p in model.parameters() if p.requires_grad)\n",
        "\n",
        "print(f'В ходе тренировки модели было использовано {count_parameters(model):,} параметров.')"
      ],
      "execution_count": 16,
      "outputs": [
        {
          "output_type": "stream",
          "text": [
            "В ходе тренировки модели было использовано 80,602 параметров.\n"
          ],
          "name": "stdout"
        }
      ]
    },
    {
      "cell_type": "code",
      "metadata": {
        "id": "2Pjo9it7ZLo0",
        "colab_type": "code",
        "colab": {}
      },
      "source": [
        "# Предобработка единичного комментария\n",
        "# Те же самые операции, что мы производили над датасетом,\n",
        "# только теперь для единичного комментария.\n",
        "def preprocess_text(text):\n",
        "  text = text.replace('\\n', ' ')\n",
        "  text = text.replace('ё', 'е')\n",
        "  text = re.sub('[^a-zA-Zа-яА-Я]+', ' ', text).lower()\n",
        "  return text.strip()"
      ],
      "execution_count": 0,
      "outputs": []
    },
    {
      "cell_type": "code",
      "metadata": {
        "id": "h71t5qsmZq6O",
        "colab_type": "code",
        "colab": {}
      },
      "source": [
        "# Посмотрим, как модель определяет положительный комментарий\n",
        "t_1 = \"\"\"Несколько дней назад в лаборатории сдавала анализ крови.Претензий к \n",
        "качеству выполнения и отношению со стороны сотрудников абсолютно нет. \n",
        "Сама процедура заняла у меня буквально 10 минут, а результат я получила на \n",
        "почту буквально через день. Внутри все оборудовано для людей, удобные \n",
        "диваны, кулер с водой и стаканчики, журналы. В целом есть все необходимое. \n",
        "Персонал вежливый и внимательный. Инвитро стал для меня ещё одним \n",
        "доказательством, что лучше заплатить немного больше, но получить качественный \n",
        "сервис, и самое главное - правильные результаты анализов.\"\"\""
      ],
      "execution_count": 0,
      "outputs": []
    },
    {
      "cell_type": "code",
      "metadata": {
        "id": "grvYBgp8aAcU",
        "colab_type": "code",
        "colab": {
          "base_uri": "https://localhost:8080/",
          "height": 34
        },
        "outputId": "0dcf3dcc-f598-494c-8f09-ae337e3eb99e"
      },
      "source": [
        "sentence = Sentence(preprocess_text(t_1))\n",
        "model.predict(sentence)\n",
        "\n",
        "print(sentence.labels)"
      ],
      "execution_count": 23,
      "outputs": [
        {
          "output_type": "stream",
          "text": [
            "[1 (0.9709076285362244)]\n"
          ],
          "name": "stdout"
        }
      ]
    },
    {
      "cell_type": "code",
      "metadata": {
        "id": "BPBN0kUMaES-",
        "colab_type": "code",
        "colab": {}
      },
      "source": [
        "# Посмотрим, сможет ли модель определить отрицательный комментарий\n",
        "t_0 = \"\"\"Ужасные очереди. Терапевт принимает по 40-50 минут одного человека. \n",
        "Ни разу ещё так долго не проходила медосмотр. Очереди везде - в регистратуре, \n",
        "в каждый кабинет и обслуживание максимально долгое. Даже по записи люди сидели \n",
        "и ждали уже после своего времени, чтобы пройти врача. Не говоря уже о живой \n",
        "очереди! И тут ещё деньги за это берут!\"\"\""
      ],
      "execution_count": 0,
      "outputs": []
    },
    {
      "cell_type": "code",
      "metadata": {
        "id": "ZvQNpWS4aeja",
        "colab_type": "code",
        "colab": {
          "base_uri": "https://localhost:8080/",
          "height": 34
        },
        "outputId": "3b798afc-2c6b-46fe-84f7-9f017a482d32"
      },
      "source": [
        "sentence = Sentence(preprocess_text(t_0))\n",
        "model.predict(sentence)\n",
        "\n",
        "print(sentence.labels)"
      ],
      "execution_count": 27,
      "outputs": [
        {
          "output_type": "stream",
          "text": [
            "[0 (0.8297977447509766)]\n"
          ],
          "name": "stdout"
        }
      ]
    },
    {
      "cell_type": "markdown",
      "metadata": {
        "id": "Zy8mlS6ZkzgI",
        "colab_type": "text"
      },
      "source": [
        "Как видим, модель великолепно справилась с задачей, и распознала как положительный, так и отрицательный комментарий.\n",
        "\n",
        "Ответ модели:\n",
        "\n",
        "```\n",
        "[1 (0.9709076285362244)]\n",
        "[0 (0.8297977447509766)]\n",
        "```\n",
        "\n",
        "Первым параметром идёт категория текста, определённая моделью.\n",
        "\n",
        "Вторым параметром — вероятность определения категории.\n",
        "\n"
      ]
    },
    {
      "cell_type": "code",
      "metadata": {
        "id": "5szOFZGtlXW4",
        "colab_type": "code",
        "colab": {}
      },
      "source": [
        ""
      ],
      "execution_count": 0,
      "outputs": []
    }
  ]
}
